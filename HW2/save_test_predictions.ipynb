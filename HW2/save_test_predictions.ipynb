{
 "cells": [
  {
   "cell_type": "markdown",
   "metadata": {},
   "source": [
    "# Generate your predictions on test data and save the results in required format"
   ]
  },
  {
   "cell_type": "code",
   "execution_count": 1,
   "metadata": {},
   "outputs": [
    {
     "name": "stdout",
     "output_type": "stream",
     "text": [
      "Downloading https://www.dropbox.com/s/7glaxqq5p8nmd66/cifar10_test_F21.zip?dl=1 to ./data/cifar10_test_F21.zip\n"
     ]
    },
    {
     "data": {
      "application/vnd.jupyter.widget-view+json": {
       "model_id": "0ba43008356842c0adc9e06670e547d9",
       "version_major": 2,
       "version_minor": 0
      },
      "text/plain": [
       "HBox(children=(FloatProgress(value=1.0, bar_style='info', max=1.0), HTML(value='')))"
      ]
     },
     "metadata": {},
     "output_type": "display_data"
    },
    {
     "name": "stdout",
     "output_type": "stream",
     "text": [
      "Extracting ./data/cifar10_test_F21.zip to ./data\n",
      "Files already downloaded and verified\n"
     ]
    },
    {
     "ename": "NameError",
     "evalue": "name 'net' is not defined",
     "output_type": "error",
     "traceback": [
      "\u001b[0;31m---------------------------------------------------------------------------\u001b[0m",
      "\u001b[0;31mNameError\u001b[0m                                 Traceback (most recent call last)",
      "\u001b[0;32m<ipython-input-1-d5694e064ebb>\u001b[0m in \u001b[0;36m<module>\u001b[0;34m\u001b[0m\n\u001b[1;32m     31\u001b[0m \u001b[0;34m\u001b[0m\u001b[0m\n\u001b[1;32m     32\u001b[0m \u001b[0;31m# remember to switch to eval mode whenever you are making inference\u001b[0m\u001b[0;34m\u001b[0m\u001b[0;34m\u001b[0m\u001b[0;34m\u001b[0m\u001b[0m\n\u001b[0;32m---> 33\u001b[0;31m \u001b[0mnet\u001b[0m\u001b[0;34m.\u001b[0m\u001b[0meval\u001b[0m\u001b[0;34m(\u001b[0m\u001b[0;34m)\u001b[0m\u001b[0;34m\u001b[0m\u001b[0;34m\u001b[0m\u001b[0m\n\u001b[0m\u001b[1;32m     34\u001b[0m \u001b[0;34m\u001b[0m\u001b[0m\n\u001b[1;32m     35\u001b[0m \u001b[0mresults\u001b[0m \u001b[0;34m=\u001b[0m \u001b[0;34m[\u001b[0m\u001b[0;34m]\u001b[0m\u001b[0;34m\u001b[0m\u001b[0;34m\u001b[0m\u001b[0m\n",
      "\u001b[0;31mNameError\u001b[0m: name 'net' is not defined"
     ]
    }
   ],
   "source": [
    "import numpy as np\n",
    "\n",
    "import torch\n",
    "from torch.utils.data import DataLoader\n",
    "from torchvision import transforms\n",
    "from tools.dataset import CIFAR10\n",
    "\n",
    "DATA_ROOT = \"./data\"\n",
    "BATCH_SIZE = 100\n",
    "\n",
    "\n",
    "transform_test = ... # same as transform_val implemented in simplenn-cifar10.ipynb\n",
    "\n",
    "test_set = CIFAR10(\n",
    "    root=DATA_ROOT, \n",
    "    mode='test', \n",
    "    download=True,\n",
    "    transform=transform_test\n",
    ")\n",
    "\n",
    "# do NOT shuffle your test data loader\n",
    "# otherwise the order of samples will be messed up\n",
    "# and your test accuracy is likely to drop to random guessing level\n",
    "test_loader = DataLoader(\n",
    "    test_set, batch_size=BATCH_SIZE, shuffle=False, num_workers=1)\n",
    "\n",
    "#########################################################\n",
    "# use your model to generate predictions on test data\n",
    "# and save the results into variable \"results\"\n",
    "# \"results\" should be either a numpy array or a torch tensor with length of 10000\n",
    "\n",
    "# remember to switch to eval mode whenever you are making inference\n",
    "net.eval()\n",
    "\n",
    "results = []\n",
    "with torch.no_grad():\n",
    "    for inputs in test_loader:\n",
    "        # get outputs\n",
    "        \n",
    "        # append outputs to results\n",
    "        results.append(...)\n",
    "\n",
    "# convert results to np array or torch tensor\n",
    "\n",
    "\n",
    "#########################################################\n",
    "\n",
    "assert isinstance(results, np.ndarray) or isinstance(results, torch.tensor)\n",
    "if isinstance(results, torch.Tensor):\n",
    "    results = results.cpu().numpy()\n",
    "else:\n",
    "    pass\n",
    "\n",
    "with open('predictions.csv', 'w') as fp:\n",
    "    fp.write(\"Id,Label\\n\")\n",
    "    for i in range(len(results)):\n",
    "        fp.write(\"%d,%d\\n\" %(i, results[i]))"
   ]
  },
  {
   "cell_type": "code",
   "execution_count": null,
   "metadata": {},
   "outputs": [],
   "source": []
  }
 ],
 "metadata": {
  "kernelspec": {
   "display_name": "Python 3",
   "language": "python",
   "name": "python3"
  },
  "language_info": {
   "codemirror_mode": {
    "name": "ipython",
    "version": 3
   },
   "file_extension": ".py",
   "mimetype": "text/x-python",
   "name": "python",
   "nbconvert_exporter": "python",
   "pygments_lexer": "ipython3",
   "version": "3.8.3"
  }
 },
 "nbformat": 4,
 "nbformat_minor": 4
}
