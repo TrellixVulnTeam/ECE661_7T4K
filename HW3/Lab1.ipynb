{
  "nbformat": 4,
  "nbformat_minor": 0,
  "metadata": {
    "accelerator": "GPU",
    "colab": {
      "name": "Lab1 .ipynb",
      "provenance": [],
      "collapsed_sections": []
    },
    "kernelspec": {
      "display_name": "Python 3",
      "language": "python",
      "name": "python3"
    },
    "language_info": {
      "codemirror_mode": {
        "name": "ipython",
        "version": 3
      },
      "file_extension": ".py",
      "mimetype": "text/x-python",
      "name": "python",
      "nbconvert_exporter": "python",
      "pygments_lexer": "ipython3",
      "version": "3.6.10"
    }
  },
  "cells": [
    {
      "cell_type": "markdown",
      "metadata": {
        "id": "AhDUFBxt9xZg"
      },
      "source": [
        "# Implement and train a LSTM for sentiment analysis"
      ]
    },
    {
      "cell_type": "markdown",
      "metadata": {
        "id": "gW6ymxu99xZk"
      },
      "source": [
        "## Step 0: set up the environment"
      ]
    },
    {
      "cell_type": "code",
      "metadata": {
        "colab": {
          "base_uri": "https://localhost:8080/"
        },
        "id": "BFJcBI6NPqTN",
        "outputId": "2eb0b97e-90d6-44a3-88f0-988f3657aba8"
      },
      "source": [
        "!pip install nltk"
      ],
      "execution_count": null,
      "outputs": [
        {
          "output_type": "stream",
          "name": "stdout",
          "text": [
            "Requirement already satisfied: nltk in /usr/local/lib/python3.7/dist-packages (3.2.5)\n",
            "Requirement already satisfied: six in /usr/local/lib/python3.7/dist-packages (from nltk) (1.15.0)\n"
          ]
        }
      ]
    },
    {
      "cell_type": "code",
      "metadata": {
        "colab": {
          "base_uri": "https://localhost:8080/"
        },
        "id": "Spc_UH4B9xZl",
        "outputId": "0400b952-b28c-44a4-94b7-05c16f42f697"
      },
      "source": [
        "import functools\n",
        "import sys\n",
        "import numpy as np\n",
        "import pandas as pd\n",
        "import random\n",
        "import re\n",
        "import matplotlib.pyplot as plt\n",
        "import tqdm\n",
        "import nltk\n",
        "from sklearn.model_selection import train_test_split\n",
        "from nltk.corpus import stopwords\n",
        "from collections import Counter\n",
        "import torch\n",
        "import torch.nn as nn\n",
        "import torch.optim as optim\n",
        "from torch.utils.data import Dataset\n",
        "import re\n",
        "\n",
        "nltk.download('stopwords')"
      ],
      "execution_count": null,
      "outputs": [
        {
          "output_type": "stream",
          "name": "stdout",
          "text": [
            "[nltk_data] Downloading package stopwords to /root/nltk_data...\n",
            "[nltk_data]   Package stopwords is already up-to-date!\n"
          ]
        },
        {
          "output_type": "execute_result",
          "data": {
            "text/plain": [
              "True"
            ]
          },
          "metadata": {},
          "execution_count": 13
        }
      ]
    },
    {
      "cell_type": "code",
      "metadata": {
        "id": "1xhrP-2N9xZn"
      },
      "source": [
        "# Set the random seeds.\n",
        "seed = 0\n",
        "torch.manual_seed(seed)\n",
        "random.seed(seed)\n",
        "np.random.seed(seed)"
      ],
      "execution_count": null,
      "outputs": []
    },
    {
      "cell_type": "code",
      "metadata": {
        "id": "OxnFjs3f9xZn"
      },
      "source": [
        "# Constance hyperparameters. They have been tested and don't need to be tuned.\n",
        "PAD_INDEX = 0\n",
        "UNK_INDEX = 1\n",
        "PAD_TOKEN = '<pad>'\n",
        "UNK_TOKEN = '<unk>'\n",
        "STOP_WORDS = set(stopwords.words('english'))\n",
        "MAX_LENGTH = 256\n",
        "BATCH_SIZE = 16\n",
        "EMBEDDING_DIM = 256\n",
        "HIDDEN_DIM = 256\n",
        "OUTPUT_DIM = 2\n",
        "N_LAYERS = 3\n",
        "DROPOUT_RATE = 0.1\n",
        "LR = 3e-4\n",
        "N_EPOCHS = 5"
      ],
      "execution_count": null,
      "outputs": []
    },
    {
      "cell_type": "markdown",
      "metadata": {
        "id": "XODz_aDV9xZo"
      },
      "source": [
        "## Q(a): Implement your own data loader function.  \n",
        "Q: Implement your own data loader function.  \n",
        "First, you need to read the data from the dataset file on the local disk. \n",
        "You can leverage the train_test_split function from sklearn.model_selection. If you want to reproduce the same result every round, remember to set the random_state argument in train_test_split as a constant value.  \n",
        "Finally return x_train, x_valid, x_test, y_train, y_valid, y_test where x represents reviews and y represent labels.   "
      ]
    },
    {
      "cell_type": "code",
      "metadata": {
        "id": "AD7HSvM19xZp"
      },
      "source": [
        "def load_imdb(base_csv:str = './IMDBDataset.csv'):\n",
        "    \"\"\"\n",
        "    Load the IMDB dataset\n",
        "    :param base_csv: the path of the dataset file.\n",
        "    :return: train, validation and test set.\n",
        "    \"\"\"\n",
        "    # Add your code here.\n",
        "    df=pd.read_csv('./IMDBDataset.csv',header=None)\n",
        "    df_con = df[0].loc[1:]\n",
        "    df_lab = df[1].loc[1:]\n",
        "    df_con =np.array(df_con)\n",
        "    df_lab =np.array(df_lab)\n",
        "    train_X,x_test,train_y,y_test = train_test_split(df_con,df_lab,test_size=0.2)\n",
        "    x_train,x_valid,y_train,y_valid =train_test_split(train_X,train_y,test_size=0.125)\n",
        "\n",
        "   \n",
        "    print(f'shape of train data is {x_train.shape}')\n",
        "    print(f'shape of test data is {x_test.shape}')\n",
        "    print(f'shape of valid data is {x_valid.shape}')\n",
        "    x_train.tolist()\n",
        "    y_train.tolist()\n",
        "    x_valid.tolist()\n",
        "    y_valid.tolist()\n",
        "    x_test.tolist()\n",
        "    y_test.tolist()\n",
        "    return x_train, x_valid, x_test, y_train, y_valid, y_test"
      ],
      "execution_count": null,
      "outputs": []
    },
    {
      "cell_type": "markdown",
      "metadata": {
        "id": "KYVH6t--9xZq"
      },
      "source": [
        "## Q(b): Implement the build_vocab function to build a vocabulary based on the training corpus\n",
        "You should first compute the frequency of all the words in the training corpus.\n",
        "Avoid the words that are in the STOP_WORDS. \n",
        "Filter the words by their frequency (>=min_freq).\n",
        "Generate a corpus variable which contains a list of words.  "
      ]
    },
    {
      "cell_type": "code",
      "metadata": {
        "id": "sugI5VoJ9xZr"
      },
      "source": [
        "import copy\n",
        "def build_vocab(x_train:list, min_freq:int = 5) -> dict:\n",
        "    \"\"\"\n",
        "    build a vocabulary based on the training corpus.\n",
        "    :param x_train:  List. The training corpus. Each sample in the list is a string of text.\n",
        "    :param min_freq: Int. The frequency threshold for selecting words.\n",
        "    :return: dictionary {word:index}\n",
        "    \"\"\"\n",
        "    # Add your code here. Your code should assign corpus with a list of words.\n",
        "    counter=Counter()\n",
        "\n",
        "\n",
        "    for example in tqdm.tqdm(x_train, total = len(x_train)):\n",
        "        s = ''.join(example).replace('.','').replace('?','').replace('/','').replace('<br','').replace('>','').replace('\\'','').replace('\\\"','').replace('(','').replace(')','').replace('*','').replace(':','').replace(',','').replace(';','').replace('!','')\n",
        "        s=s.lower()\n",
        "        wordList = s.split()\n",
        "        counter.update(wordList)\n",
        "    for word in STOP_WORDS:\n",
        "      try:\n",
        "          counter.pop(word)\n",
        "          counter.pop('-')\n",
        "          counter.pop('&')\n",
        "          counter.pop('--')\n",
        "      except:\n",
        "          continue\n",
        "\n",
        "    counter2 = copy.deepcopy(counter)\n",
        "    for item in counter:\n",
        "\n",
        "      if counter[item] < min_freq:\n",
        "        counter2.pop(item)\n",
        "    corpus = [key for key, _ in counter2.most_common()]\n",
        "\n",
        "    \n",
        "    # Assign token index to each word in the vocabulary.\n",
        "    vocab = {w:i+2 for i, w in enumerate(corpus)}\n",
        "    vocab[PAD_TOKEN] = PAD_INDEX\n",
        "    vocab[UNK_TOKEN] = UNK_INDEX\n",
        "\n",
        "    return vocab"
      ],
      "execution_count": null,
      "outputs": []
    },
    {
      "cell_type": "markdown",
      "metadata": {
        "id": "Ca71G17F9xZt"
      },
      "source": [
        "## Q(c): Implement your tokenize function. \n",
        "\n",
        "For each word, find its index in the vocabulary. \n",
        "Return a list of int that represents the indices of words in the example. "
      ]
    },
    {
      "cell_type": "code",
      "metadata": {
        "id": "c6kj_qT69xZt"
      },
      "source": [
        "def tokenize(vocab: dict, example: str)-> list:\n",
        "    \"\"\"\n",
        "    Tokenize the give example string into a list of token indices.\n",
        "    :param vocab: dict, the vocabulary.\n",
        "    :param example: a string of text.\n",
        "    :return: a list of token indices.\n",
        "\n",
        "    \"\"\"\n",
        "    counter=Counter()\n",
        "    s = ''.join(example).replace('.','').replace('?','').replace('/','').replace('<br','').replace('>','').replace('\\'','').replace('\\\"','').replace('(','').replace(')','').replace('*','').replace(':','').replace(',','').replace(';','').replace('!','')\n",
        "    s=s.lower()\n",
        "    wordList = s.split()\n",
        "    for word in STOP_WORDS:\n",
        "        try:\n",
        "            wordList.remove(word)\n",
        "            wordList.remove('-')\n",
        "            wordList.remove('&')\n",
        "            wordList.remove('--')\n",
        "        except:\n",
        "            continue\n",
        "    output=[]\n",
        "    for item in wordList:\n",
        "        if item in vocab.keys():\n",
        "            output.append(vocab[item])\n",
        "\n",
        "\n",
        "\n",
        "        \n",
        "\n",
        "    return output\n"
      ],
      "execution_count": null,
      "outputs": []
    },
    {
      "cell_type": "markdown",
      "metadata": {
        "id": "e9ntSo4k9xZu"
      },
      "source": [
        "## Q(d): Implement the __getitem__ function.\n",
        "Given an index i, you should return the i-th review\n",
        "and label. The review is originally a string. Please tokenize it into a sequence of token indices.\n",
        "Use the max_length parameter to truncate the sequence so that it contains at most max_length\n",
        "tokens. Convert the label string (’positive’/’negative’) to a binary index. ’positive’ is 1 and ’negative’\n",
        "is 0. Return a dictionary containing three keys: ’ids’, ’length’, ’label’ which represent the list\n",
        "of token ids, the length of the sequence, the binary label."
      ]
    },
    {
      "cell_type": "code",
      "metadata": {
        "id": "2TDgA4p79xZu"
      },
      "source": [
        "class IMDB(Dataset):\n",
        "    def __init__(self, x, y, vocab, max_length=256) -> None:\n",
        "        \"\"\"\n",
        "        :param x: list of reviews\n",
        "        :param y: list of labels\n",
        "        :param vocab: vocabulary dictionary {word:index}.\n",
        "        :param max_length: the maximum sequence length.\n",
        "        \"\"\"\n",
        "        self.x = x\n",
        "        self.y = y\n",
        "        self.vocab = vocab\n",
        "        self.max_length = max_length\n",
        "\n",
        "    def __getitem__(self, idx: int):\n",
        "        \"\"\"\n",
        "        Return the tokenized review and label by the given index.\n",
        "        :param idx: index of the sample.\n",
        "        :return: a dictionary containing three keys: 'ids', 'length', 'label' which represent the list of token ids, the length of the sequence, the binary label.\n",
        "        \"\"\"\n",
        "        term = self.x[idx]\n",
        "        wordList = term.split()\n",
        "        la= self.y[idx]\n",
        "\n",
        "        la = la.replace(\"positive\",'1')\n",
        "        la = la.replace(\"negative\",'0')\n",
        "\n",
        "        \n",
        "        la= list(map(lambda x: int(x),la))\n",
        "\n",
        "        length = len(wordList)\n",
        "        if length > self.max_length:\n",
        "            wordList = wordList[:self.max_length]\n",
        "            la = la[:self.max_length]\n",
        "            length = self.max_length\n",
        "        str_sample = \" \".join(wordList)\n",
        "        ids = tokenize(self.vocab,str_sample)\n",
        "\n",
        "        d={'ids':ids,'length':length,'label':la}\n",
        "        return d\n",
        "\n",
        "        \n",
        "    def __len__(self) -> int:\n",
        "        return len(self.x)\n",
        "\n",
        "def collate(batch, pad_index):\n",
        "    batch_ids = [torch.LongTensor(i['ids']) for i in batch]\n",
        "    batch_ids = nn.utils.rnn.pad_sequence(batch_ids, padding_value=pad_index, batch_first=True)\n",
        "    batch_length = torch.Tensor([i['length'] for i in batch])\n",
        "    batch_label = torch.LongTensor([i['label'] for i in batch])\n",
        "    batch = {'ids': batch_ids, 'length': batch_length, 'label': batch_label}\n",
        "    return batch"
      ],
      "execution_count": null,
      "outputs": []
    },
    {
      "cell_type": "markdown",
      "metadata": {
        "id": "1zgSPYmf9xZv"
      },
      "source": [
        "## Q(e):Implement the LSTM model for sentiment analysis.\n",
        "Q(a): Implement the initialization function.\n",
        "Write the initialization function. Your task is to create the model by stacking several\n",
        "necessary layers including an embedding layer, a lstm cell, a linear layer, and a dropout layer.\n",
        "You can call functions from Pytorch’s nn library. For example, nn.Embedding, nn.LSTM,\n",
        "nn.Linear.<br>\n",
        "Q(b): Implement the forward function.\n",
        "   Write the forward function. Decide where to apply dropout. The sequences in the\n",
        "batch have different lengths. Write/call a function to pad the sequences into the same length.\n",
        "Apply a fully-connected (fc) layer to the output of the LSTM layer. Return the output features\n",
        "which is of size [batch size, output dim]."
      ]
    },
    {
      "cell_type": "code",
      "metadata": {
        "id": "b9ofQ5R29xZv"
      },
      "source": [
        "class LSTM(nn.Module):\n",
        "    def __init__(self, vocab_size:int, embedding_dim:int, hidden_dim:int, output_dim:int, n_layers:int, dropout_rate:float, pad_index:int):\n",
        "        \"\"\"\n",
        "        Create a LSTM model for classification.\n",
        "        :param vocab_size: size of the vocabulary\n",
        "        :param embedding_dim: dimension of embeddings\n",
        "        :param hidden_dim: dimension of hidden features\n",
        "        :param output_dim: dimension of the output layer which equals to the number of labels.\n",
        "        :param n_layers: number of layers.\n",
        "        :param dropout_rate: dropout rate.\n",
        "        :param pad_index: index of the padding token.\n",
        "        \"\"\"\n",
        "        super().__init__()\n",
        "        # Add your code here. Initializing each layer by the given arguments.\n",
        "        self.embedding = nn.Embedding(vocab_size, embedding_dim,padding_idx=pad_index)\n",
        "        self.lstm = nn.LSTM(input_size=embedding_dim, hidden_size=hidden_dim, num_layers=n_layers)\n",
        "        self.fc = nn.Linear(hidden_dim, output_dim)\n",
        "        self.dropout = nn.Dropout(p=dropout_rate)\n",
        "        self.m = nn.Sigmoid()\n",
        "\n",
        "\n",
        "\n",
        "    def forward(self, ids:torch.Tensor, length:torch.Tensor):\n",
        "        \"\"\"\n",
        "        Feed the given token ids to the model.\n",
        "        :param ids: [batch size, seq len] batch of token ids.\n",
        "        :param length: [batch size] batch of length of the token ids.\n",
        "        :return: prediction of size [batch size, output dim].\n",
        "        \"\"\"\n",
        "        # Add your code here\n",
        "\n",
        "\n",
        "        embeds = self.embedding(ids)\n",
        "        embeds = embeds.permute(1, 0, 2)\n",
        "\n",
        "        lstm_out, _ = self.lstm(embeds)\n",
        "\n",
        "        \n",
        "        lstm_out =  lstm_out.permute(1, 0, 2)\n",
        "        \n",
        "        linear_out = self.fc(lstm_out)\n",
        "        data = torch.sum(linear_out, dim=1)\n",
        "\n",
        "        length_ = length.reshape(-1,1).to(device)\n",
        "        \n",
        "        output = data / length_\n",
        "        output = self.m(output)\n",
        "\n",
        "\n",
        "        return output \n"
      ],
      "execution_count": null,
      "outputs": []
    },
    {
      "cell_type": "code",
      "metadata": {
        "id": "13Sdl7MV9xZv"
      },
      "source": [
        "##Useful functions do not change\n",
        "def count_parameters(model):\n",
        "    return sum(p.numel() for p in model.parameters() if p.requires_grad)\n",
        "\n",
        "def initialize_weights(m):\n",
        "    if isinstance(m, nn.Linear):\n",
        "        nn.init.xavier_normal_(m.weight)\n",
        "        nn.init.zeros_(m.bias)\n",
        "    elif isinstance(m, nn.LSTM):\n",
        "        for name, param in m.named_parameters():\n",
        "            if 'bias' in name:\n",
        "                nn.init.zeros_(param)\n",
        "            elif 'weight' in name:\n",
        "                nn.init.orthogonal_(param)\n",
        "\n",
        "def train(dataloader, model, criterion, optimizer, device):\n",
        "    model.train()\n",
        "    epoch_losses = []\n",
        "    epoch_accs = []\n",
        "\n",
        "    for batch in tqdm.tqdm(dataloader, desc='training...', file=sys.stdout):\n",
        "        ids = batch['ids'].to(device)\n",
        "        length = batch['length']\n",
        "        label = batch['label'].to(device)\n",
        "        prediction = model(ids, length)\n",
        "        label = label.squeeze()\n",
        "        loss = criterion(prediction, label)\n",
        "        accuracy = get_accuracy(prediction, label)\n",
        "        \n",
        "        optimizer.zero_grad()\n",
        "        loss.backward()\n",
        "        optimizer.step()\n",
        "        epoch_losses.append(loss.item())\n",
        "        epoch_accs.append(accuracy.item())\n",
        "\n",
        "    return epoch_losses, epoch_accs\n",
        "\n",
        "def evaluate(dataloader, model, criterion, device):\n",
        "    model.eval()\n",
        "    epoch_losses = []\n",
        "    epoch_accs = []\n",
        "\n",
        "    with torch.no_grad():\n",
        "        for batch in tqdm.tqdm(dataloader, desc='evaluating...', file=sys.stdout):\n",
        "            ids = batch['ids'].to(device)\n",
        "            length = batch['length']\n",
        "            label = batch['label'].to(device)\n",
        "            label = label.squeeze()\n",
        "            prediction = model(ids, length)\n",
        "            loss = criterion(prediction, label)\n",
        "            \n",
        "            accuracy = get_accuracy(prediction, label)\n",
        "            epoch_losses.append(loss.item())\n",
        "            epoch_accs.append(accuracy.item())\n",
        "\n",
        "    return epoch_losses, epoch_accs\n",
        "\n",
        "def get_accuracy(prediction, label):\n",
        "    batch_size, _ = prediction.shape\n",
        "    predicted_classes = prediction.argmax(dim=-1)\n",
        "    correct_predictions = predicted_classes.eq(label).sum()\n",
        "    accuracy = correct_predictions / batch_size\n",
        "    return accuracy\n",
        "\n",
        "def predict_sentiment(text, model, vocab, device):\n",
        "        tokens = tokenize(vocab, text)\n",
        "        ids = [vocab[t] if t in vocab else UNK_INDEX for t in tokens]\n",
        "        length = torch.LongTensor([len(ids)])\n",
        "        tensor = torch.LongTensor(ids).unsqueeze(dim=0).to(device)\n",
        "        prediction = model(tensor, length).squeeze(dim=0)\n",
        "        probability = torch.softmax(prediction, dim=-1)\n",
        "        predicted_class = prediction.argmax(dim=-1).item()\n",
        "        predicted_probability = probability[predicted_class].item()\n",
        "        return predicted_class, predicted_probability\n",
        "\n"
      ],
      "execution_count": null,
      "outputs": []
    },
    {
      "cell_type": "markdown",
      "metadata": {
        "id": "zq2T1kOO9mwm"
      },
      "source": [
        "## Q(f):Train Your model\n",
        "Copy the plotted figures of training/validation loss/accuracy\n",
        "to your self-contained pdf report. What is your testing accuracy? (The provided code contains\n",
        "the plot function and computation of test accuracy. You just need to report the value of testing\n",
        "accuracy.)"
      ]
    },
    {
      "cell_type": "code",
      "metadata": {
        "colab": {
          "base_uri": "https://localhost:8080/",
          "height": 1000
        },
        "id": "qXLkQSnS9xZw",
        "outputId": "6a4e2d28-c503-4f25-bfd9-3f62c84394e4"
      },
      "source": [
        "x_train, x_valid, x_test, y_train, y_valid, y_test = load_imdb()\n",
        "\n",
        "vocab = build_vocab(x_train) \n",
        "vocab_size = len(vocab)\n",
        "print(f'Length of vocabulary is {vocab_size}')\n",
        "\n",
        "train_data = IMDB(x_train, y_train, vocab, MAX_LENGTH)\n",
        "valid_data = IMDB(x_valid, y_valid, vocab, MAX_LENGTH)\n",
        "test_data = IMDB(x_test, y_test, vocab, MAX_LENGTH)\n",
        "\n",
        "collate = functools.partial(collate, pad_index=PAD_INDEX)\n",
        "\n",
        "train_dataloader = torch.utils.data.DataLoader(train_data, batch_size=BATCH_SIZE, collate_fn=collate, shuffle=True)\n",
        "valid_dataloader = torch.utils.data.DataLoader(valid_data, batch_size=BATCH_SIZE, collate_fn=collate)\n",
        "test_dataloader = torch.utils.data.DataLoader(test_data, batch_size=BATCH_SIZE, collate_fn=collate)\n",
        "\n",
        "# Model\n",
        "model = LSTM(vocab_size, EMBEDDING_DIM, HIDDEN_DIM, OUTPUT_DIM, N_LAYERS, DROPOUT_RATE, PAD_INDEX)\n",
        "print(f'The model has {count_parameters(model):,} trainable parameters')\n",
        "model.apply(initialize_weights)\n",
        "\n",
        "# Optimization\n",
        "optimizer = optim.Adam(model.parameters(), lr=LR)\n",
        "criterion = nn.CrossEntropyLoss()\n",
        "\n",
        "device = torch.device('cuda' if torch.cuda.is_available() else 'cpu')\n",
        "model = model.to(device)\n",
        "criterion = criterion.to(device)\n",
        "\n",
        "# Start training\n",
        "best_valid_loss = float('inf')\n",
        "train_losses = []\n",
        "train_accs = []\n",
        "valid_losses = []\n",
        "valid_accs = []\n",
        "\n",
        "for epoch in range(N_EPOCHS):\n",
        "    train_loss, train_acc = train(train_dataloader, model, criterion, optimizer, device)\n",
        "    valid_loss, valid_acc = evaluate(valid_dataloader, model, criterion, device)\n",
        "\n",
        "    train_losses.extend(train_loss)\n",
        "    train_accs.extend(train_acc)\n",
        "    valid_losses.extend(valid_loss)\n",
        "    valid_accs.extend(valid_acc)\n",
        "\n",
        "    epoch_train_loss = np.mean(train_loss)\n",
        "    epoch_train_acc = np.mean(train_acc)\n",
        "    epoch_valid_loss = np.mean(valid_loss)\n",
        "    epoch_valid_acc = np.mean(valid_acc)\n",
        "\n",
        "    # Save the model that achieves the smallest validation loss.\n",
        "    if epoch_valid_loss < best_valid_loss:\n",
        "        best_valid_loss = epoch_valid_loss\n",
        "        torch.save(model.state_dict(), 'lstm.pt')\n",
        "\n",
        "    print(f'epoch: {epoch+1}')\n",
        "    print(f'train_loss: {epoch_train_loss:.3f}, train_acc: {epoch_train_acc:.3f}')\n",
        "    print(f'valid_loss: {epoch_valid_loss:.3f}, valid_acc: {epoch_valid_acc:.3f}')\n",
        "\n",
        "\n",
        "# Plot training and validation losses.\n",
        "fig = plt.figure(figsize=(10,6))\n",
        "ax = fig.add_subplot(1,1,1)\n",
        "ax.plot(train_losses, label='train loss')\n",
        "ax.plot(valid_losses, label='valid loss')\n",
        "plt.legend()\n",
        "ax.set_xlabel('updates')\n",
        "ax.set_ylabel('loss')\n",
        "\n",
        "# Plot training and validation accuracies.\n",
        "fig = plt.figure(figsize=(10,6))\n",
        "ax = fig.add_subplot(1,1,1)\n",
        "ax.plot(train_accs, label='train accuracy')\n",
        "ax.plot(valid_accs, label='valid accuracy')\n",
        "plt.legend()\n",
        "ax.set_xlabel('updates')\n",
        "ax.set_ylabel('accuracy')\n",
        "\n",
        "\n",
        "# Load the best model's weights.\n",
        "model.load_state_dict(torch.load('lstm.pt'))\n",
        "\n",
        "# Evaluate\n",
        "test_loss, test_acc = evaluate(test_dataloader, model, criterion, device)\n",
        "\n",
        "epoch_test_loss = np.mean(test_loss)\n",
        "epoch_test_acc = np.mean(test_acc)\n",
        "print(f'test_loss: {epoch_test_loss:.3f}, test_acc: {epoch_test_acc:.3f}')\n",
        "\n"
      ],
      "execution_count": null,
      "outputs": [
        {
          "metadata": {
            "tags": null
          },
          "name": "stdout",
          "output_type": "stream",
          "text": [
            "shape of train data is (35000,)\n",
            "shape of test data is (10000,)\n",
            "shape of valid data is (5000,)\n"
          ]
        },
        {
          "metadata": {
            "tags": null
          },
          "name": "stderr",
          "output_type": "stream",
          "text": [
            "100%|██████████| 35000/35000 [00:03<00:00, 9241.98it/s]\n"
          ]
        },
        {
          "output_type": "stream",
          "name": "stdout",
          "text": [
            "Length of vocabulary is 36595\n",
            "The model has 10,947,842 trainable parameters\n",
            "training...: 100%|██████████| 2188/2188 [02:33<00:00, 14.22it/s]\n",
            "evaluating...: 100%|██████████| 313/313 [00:10<00:00, 31.14it/s]\n",
            "epoch: 1\n",
            "train_loss: 0.634, train_acc: 0.643\n",
            "valid_loss: 0.632, valid_acc: 0.646\n",
            "training...: 100%|██████████| 2188/2188 [02:32<00:00, 14.31it/s]\n",
            "evaluating...: 100%|██████████| 313/313 [00:10<00:00, 30.48it/s]\n",
            "epoch: 2\n",
            "train_loss: 0.544, train_acc: 0.760\n",
            "valid_loss: 0.515, valid_acc: 0.789\n",
            "training...: 100%|██████████| 2188/2188 [02:35<00:00, 14.10it/s]\n",
            "evaluating...: 100%|██████████| 313/313 [00:10<00:00, 31.08it/s]\n",
            "epoch: 3\n",
            "train_loss: 0.486, train_acc: 0.821\n",
            "valid_loss: 0.493, valid_acc: 0.814\n",
            "training...: 100%|██████████| 2188/2188 [02:34<00:00, 14.15it/s]\n",
            "evaluating...: 100%|██████████| 313/313 [00:10<00:00, 31.01it/s]\n",
            "epoch: 4\n",
            "train_loss: 0.479, train_acc: 0.829\n",
            "valid_loss: 0.473, valid_acc: 0.831\n",
            "training...: 100%|██████████| 2188/2188 [02:34<00:00, 14.12it/s]\n",
            "evaluating...: 100%|██████████| 313/313 [00:10<00:00, 30.71it/s]\n",
            "epoch: 5\n",
            "train_loss: 0.425, train_acc: 0.887\n",
            "valid_loss: 0.455, valid_acc: 0.849\n",
            "evaluating...: 100%|██████████| 625/625 [00:21<00:00, 28.59it/s]\n",
            "test_loss: 0.455, test_acc: 0.852\n"
          ]
        },
        {
          "output_type": "display_data",
          "data": {
            "image/png": "[encoded data removed]",
            "text/plain": [
              "<Figure size 720x432 with 1 Axes>"
            ]
          },
          "metadata": {
            "needs_background": "light"
          }
        },
        {
          "output_type": "display_data",
          "data": {
            "image/png": "[encoded data removed]",
            "text/plain": [
              "<Figure size 720x432 with 1 Axes>"
            ]
          },
          "metadata": {
            "needs_background": "light"
          }
        }
      ]
    },
    {
      "cell_type": "code",
      "metadata": {
        "id": "FT1-b_IGPqTW"
      },
      "source": [
        ""
      ],
      "execution_count": null,
      "outputs": []
    }
  ]
}