{
  "cells": [
    {
      "cell_type": "markdown",
      "metadata": {
        "id": "_XDaJ4TF9WCv"
      },
      "source": [
        "# Lab2 Implement and train a Transformer for sentiment analysis\n",
        "In this lab, we focus on Transformer models. You goal is to reach at least 80% validation and testing\n",
        "accuracy on the IMDB dataset within at most 10 epochs."
      ]
    },
    {
      "cell_type": "markdown",
      "metadata": {
        "id": "DRzAxetq9WCy"
      },
      "source": [
        "## Set up the environment"
      ]
    },
    {
      "cell_type": "code",
      "execution_count": null,
      "metadata": {
        "colab": {
          "base_uri": "https://localhost:8080/"
        },
        "id": "JY_O26ESMLzf",
        "outputId": "94539c61-7186-4ce4-fe8e-97cec956105e"
      },
      "outputs": [
        {
          "name": "stdout",
          "output_type": "stream",
          "text": [
            "Requirement already satisfied: nltk in /usr/local/lib/python3.7/dist-packages (3.2.5)\n",
            "Requirement already satisfied: six in /usr/local/lib/python3.7/dist-packages (from nltk) (1.15.0)\n"
          ]
        }
      ],
      "source": [
        "!pip install nltk"
      ]
    },
    {
      "cell_type": "code",
      "execution_count": null,
      "metadata": {
        "colab": {
          "base_uri": "https://localhost:8080/"
        },
        "id": "z6N8q_m49WCz",
        "outputId": "2ef8e135-c254-4e76-8077-d463fe5aa852"
      },
      "outputs": [
        {
          "name": "stdout",
          "output_type": "stream",
          "text": [
            "[nltk_data] Downloading package stopwords to /root/nltk_data...\n",
            "[nltk_data]   Unzipping corpora/stopwords.zip.\n"
          ]
        }
      ],
      "source": [
        "import functools\n",
        "import sys\n",
        "import matplotlib.pyplot as plt\n",
        "import numpy as np\n",
        "import tqdm\n",
        "import random\n",
        "import re\n",
        "from sklearn.model_selection import train_test_split\n",
        "from nltk.corpus import stopwords\n",
        "import pandas as pd\n",
        "import torch\n",
        "import torch.nn as nn\n",
        "import torch.optim as optim\n",
        "from collections import Counter\n",
        "from transformer import TransformerEncoder\n",
        "from transformer import TransformerEncoder_v\n",
        "\n",
        "from torch.utils.data import Dataset\n",
        "import nltk\n",
        "nltk.download('stopwords')\n",
        "import copy"
      ]
    },
    {
      "cell_type": "code",
      "execution_count": null,
      "metadata": {
        "id": "isuh39Vk9WC1"
      },
      "outputs": [],
      "source": [
        "seed = 0\n",
        "torch.manual_seed(seed)\n",
        "random.seed(seed)\n",
        "np.random.seed(seed)"
      ]
    },
    {
      "cell_type": "markdown",
      "metadata": {
        "id": "b-jp7lqz9WC1"
      },
      "source": [
        "## Before start\n"
      ]
    },
    {
      "cell_type": "code",
      "execution_count": null,
      "metadata": {
        "id": "SJFf5T2V9WC2"
      },
      "outputs": [],
      "source": [
        "class IMDB(Dataset):\n",
        "    def __init__(self, x, y, tokenizer, max_length=256) -> None:\n",
        "        \"\"\"\n",
        "        :param split: can be either \"train\", \"val\" or \"test\".\n",
        "        :param tokenizer: a simple tokenizer object.\n",
        "        \"\"\"\n",
        "        self.x = x\n",
        "        self.y = y\n",
        "        self.tokenizer = tokenizer\n",
        "        self.max_length = max_length\n",
        "\n",
        "    def __getitem__(self, idx: int):\n",
        "        # tokenize for question(c)\n",
        "        if USE_PRETRAINED_TOKENIZER:\n",
        "\n",
        "            \n",
        "            token_ids =tokenizer.encode(self.x[idx])\n",
        "\n",
        "        else:\n",
        "            token_ids = tokenize(self.tokenizer, self.x[idx])\n",
        "\n",
        "        if self.max_length:\n",
        "\n",
        "            token_ids = token_ids[:self.max_length]\n",
        "\n",
        "        label = 1 if self.y[idx] == 'positive' else 0\n",
        "        return {\"ids\": token_ids, \"length\": len(token_ids), \"label\": label}\n",
        "           \n",
        "        #your code here\n",
        "\n",
        "    def __len__(self) -> int:\n",
        "        return len(self.x)"
      ]
    },
    {
      "cell_type": "markdown",
      "metadata": {
        "id": "RqqP_NtbMLzi"
      },
      "source": [
        "In order to run your transformer, please copy your load_imdb function, build_vocab function, tokenize function in lab1 here"
      ]
    },
    {
      "cell_type": "code",
      "execution_count": null,
      "metadata": {
        "id": "OULMzk4D9WC3"
      },
      "outputs": [],
      "source": [
        "# Your load_imdb here:\n",
        "def load_imdb(base_csv:str = './IMDBDataset.csv'):\n",
        "    \"\"\"\n",
        "    Load the IMDB dataset\n",
        "    :param base_csv: the path of the dataset file.\n",
        "    :return: train, validation and test set.\n",
        "    \"\"\"\n",
        "    # Add your code here.\n",
        "    df=pd.read_csv('./IMDBDataset.csv',header=None)\n",
        "    df_con = df[0].loc[1:]\n",
        "    df_lab = df[1].loc[1:]\n",
        "    df_con =np.array(df_con)\n",
        "    df_lab =np.array(df_lab)\n",
        "    train_X,x_test,train_y,y_test = train_test_split(df_con,df_lab,test_size=0.2)\n",
        "    x_train,x_valid,y_train,y_valid =train_test_split(train_X,train_y,test_size=0.125)\n",
        "\n",
        "   \n",
        "    print(f'shape of train data is {x_train.shape}')\n",
        "    print(f'shape of test data is {x_test.shape}')\n",
        "    print(f'shape of valid data is {x_valid.shape}')\n",
        "    x_train.tolist()\n",
        "    y_train.tolist()\n",
        "    x_valid.tolist()\n",
        "    y_valid.tolist()\n",
        "    x_test.tolist()\n",
        "    y_test.tolist()\n",
        "    return x_train, x_valid, x_test, y_train, y_valid, y_test\n",
        "\n",
        "# Your build_vocab here:\n",
        "def build_vocab(x_train:list, min_freq:int = 5) -> dict:\n",
        "    \"\"\"\n",
        "    build a vocabulary based on the training corpus.\n",
        "    :param x_train:  List. The training corpus. Each sample in the list is a string of text.\n",
        "    :param min_freq: Int. The frequency threshold for selecting words.\n",
        "    :return: dictionary {word:index}\n",
        "    \"\"\"\n",
        "    # Add your code here. Your code should assign corpus with a list of words.\n",
        "    counter=Counter()\n",
        "\n",
        "\n",
        "    for example in tqdm.tqdm(x_train, total = len(x_train)):\n",
        "        s = ''.join(example).replace('.','').replace('?','').replace('/','').replace('<br','').replace('>','').replace('\\'','').replace('\\\"','').replace('(','').replace(')','').replace('*','').replace(':','').replace(',','').replace(';','').replace('!','')\n",
        "        s=s.lower()\n",
        "        wordList = s.split()\n",
        "        counter.update(wordList)\n",
        "    for word in STOP_WORDS:\n",
        "      try:\n",
        "          counter.pop(word)\n",
        "          counter.pop('-')\n",
        "          counter.pop('&')\n",
        "          counter.pop('--')\n",
        "      except:\n",
        "          continue\n",
        "\n",
        "    counter2 = copy.deepcopy(counter)\n",
        "    for item in counter:\n",
        "\n",
        "      if counter[item] < min_freq:\n",
        "        counter2.pop(item)\n",
        "    corpus = [key for key, _ in counter2.most_common()]\n",
        "    \n",
        "    # Assign token index to each word in the vocabulary.\n",
        "    vocab = {w:i+2 for i, w in enumerate(corpus)}\n",
        "    vocab[PAD_TOKEN] = PAD_INDEX\n",
        "    vocab[UNK_TOKEN] = UNK_INDEX\n",
        "\n",
        "    return vocab\n",
        "\n",
        "# Your tokenize function here\n",
        "def tokenize(vocab: dict, example: str)-> list:\n",
        "    \"\"\"\n",
        "    Tokenize the give example string into a list of token indices.\n",
        "    :param vocab: dict, the vocabulary.\n",
        "    :param example: a string of text.\n",
        "    :return: a list of token indices.\n",
        "    \"\"\"\n",
        "\n",
        "    counter=Counter()\n",
        "    s = ''.join(example).replace('.','').replace('?','').replace('/','').replace('<br','').replace('>','').replace('\\'','').replace('\\\"','').replace('(','').replace(')','').replace('*','').replace(':','').replace(',','').replace(';','').replace('!','')\n",
        "    s=s.lower()\n",
        "    wordList = s.split()\n",
        "    for word in STOP_WORDS:\n",
        "        try:\n",
        "            wordList.remove(word)\n",
        "            wordList.remove('-')\n",
        "            wordList.remove('&')\n",
        "            wordList.remove('--')\n",
        "        except:\n",
        "            continue\n",
        "    output=[]\n",
        "    for item in wordList:\n",
        "        if item in vocab.keys():\n",
        "            output.append(vocab[item])\n",
        "\n",
        "\n",
        "\n",
        "        \n",
        "\n",
        "    return output\n",
        "\n"
      ]
    },
    {
      "cell_type": "code",
      "execution_count": null,
      "metadata": {
        "id": "HtJZj6Qk9WC4"
      },
      "outputs": [],
      "source": [
        "# Constance hyperparameters. They have been tested and don't need to be tuned.\n",
        "USE_PRETRAINED_TOKENIZER = False\n",
        "PAD_INDEX = 0\n",
        "UNK_INDEX = 1\n",
        "PAD_TOKEN = '<pad>'\n",
        "UNK_TOKEN = '<unk>'\n",
        "BATCH_SIZE = 16\n",
        "MAX_LENGTH = 256\n",
        "HIDDEN_DIM = 256\n",
        "OUTPUT_DIM = 2\n",
        "N_LAYERS = 3\n",
        "ATTN_HEADS = 4\n",
        "DROPOUT_RATE = 0.1\n",
        "LR = 3e-4\n",
        "N_EPOCHS = 5\n",
        "STOP_WORDS = set(stopwords.words('english'))"
      ]
    },
    {
      "cell_type": "code",
      "execution_count": null,
      "metadata": {
        "id": "3Su5_gOY9WC5"
      },
      "outputs": [],
      "source": [
        "def collate(batch, pad_index):\n",
        "    batch_ids = [torch.LongTensor(i['ids']) for i in batch]\n",
        "    batch_ids = nn.utils.rnn.pad_sequence(batch_ids, padding_value=pad_index, batch_first=True)\n",
        "    batch_label = torch.LongTensor([i['label'] for i in batch])\n",
        "    batch = {'ids': batch_ids, 'label': batch_label}\n",
        "    return batch\n"
      ]
    },
    {
      "cell_type": "markdown",
      "metadata": {
        "id": "vN6tpiOq9WC6"
      },
      "source": [
        "## Q(a)Implement Transformer’s multi-head attention mechanism. \n",
        "Open the attention.py file\n",
        "and implement the class calledMultiHeadedAttention. Use the layers initialized in the __init__\n",
        "function. Compute attention between query and key. Apply the obtained attention scores on\n",
        "value. Take care of the multi-head machenism. Apply a fc layer to the output before return.\n",
        "The transformer.py notebook calls the MultiHeadedAttention module in the attention.\n",
        "py notebook to establish a Transformer model. Then the lab2.ipynb notebook calls the\n",
        "Transformer model when initializing the model for sentiment analysis.<br>\n",
        "\n",
        "Write your code in the attention.py "
      ]
    },
    {
      "cell_type": "code",
      "execution_count": null,
      "metadata": {
        "id": "qMgj84Yo9WC6"
      },
      "outputs": [],
      "source": [
        "class Transformer(nn.Module):\n",
        "    def __init__(self, transformer, output_dim, freeze):\n",
        "        super().__init__()\n",
        "        self.transformer = transformer\n",
        "        hidden_dim = transformer.hidden\n",
        "        self.fc = nn.Linear(hidden_dim, output_dim)\n",
        "\n",
        "        if freeze:\n",
        "            for param in self.transformer.parameters():\n",
        "                param.requires_grad = False\n",
        "\n",
        "    def forward(self, ids):\n",
        "        \"\"\"\n",
        "        :param ids: [batch size, seq len]\n",
        "        :return: prediction of size [batch size, output dim]\n",
        "        \"\"\"\n",
        "        output = self.transformer(ids)\n",
        "        cls_hidden = output[:,0,:]\n",
        "        prediction = self.fc(torch.tanh(cls_hidden))\n",
        "        return prediction\n",
        "\n",
        "def count_parameters(model):\n",
        "    return sum(p.numel() for p in model.parameters() if p.requires_grad)\n",
        "\n",
        "def train(dataloader, model, criterion, optimizer, device):\n",
        "    model.train()\n",
        "    epoch_losses = []\n",
        "    epoch_accs = []\n",
        "\n",
        "    for batch in tqdm.tqdm(dataloader, desc='training...', file=sys.stdout):\n",
        "        ids = batch['ids'].to(device)\n",
        "        label = batch['label'].to(device)\n",
        "        prediction = model(ids)\n",
        "        loss = criterion(prediction, label)\n",
        "        accuracy = get_accuracy(prediction, label)\n",
        "        optimizer.zero_grad()\n",
        "        loss.backward()\n",
        "        optimizer.step()\n",
        "        epoch_losses.append(loss.item())\n",
        "        epoch_accs.append(accuracy.item())\n",
        "\n",
        "    return epoch_losses, epoch_accs\n",
        "\n",
        "def evaluate(dataloader, model, criterion, device):\n",
        "    model.eval()\n",
        "    epoch_losses = []\n",
        "    epoch_accs = []\n",
        "\n",
        "    with torch.no_grad():\n",
        "        for batch in tqdm.tqdm(dataloader, desc='evaluating...', file=sys.stdout):\n",
        "            ids = batch['ids'].to(device)\n",
        "            label = batch['label'].to(device)\n",
        "            prediction = model(ids)\n",
        "            loss = criterion(prediction, label)\n",
        "            accuracy = get_accuracy(prediction, label)\n",
        "            epoch_losses.append(loss.item())\n",
        "            epoch_accs.append(accuracy.item())\n",
        "\n",
        "    return epoch_losses, epoch_accs\n",
        "\n",
        "\n",
        "def get_accuracy(prediction, label):\n",
        "    batch_size, _ = prediction.shape\n",
        "    predicted_classes = prediction.argmax(dim=-1)\n",
        "    correct_predictions = predicted_classes.eq(label).sum()\n",
        "    accuracy = correct_predictions / batch_size\n",
        "    return accuracy\n"
      ]
    },
    {
      "cell_type": "markdown",
      "metadata": {
        "id": "jrKa_c6M9WC7"
      },
      "source": [
        "## Q(b) Train your model!\n",
        "Train themodel for 5 epochs. Copy the plotted figures of training/validation loss/accuracy\n",
        "to your self-contained pdf report. What is your testing accuracy? What is your model size? (The\n",
        "provided code contains the plot function and computation of test accuracy. You just need to\n",
        "report the value of testing accuracy.)"
      ]
    },
    {
      "cell_type": "code",
      "execution_count": null,
      "metadata": {
        "colab": {
          "base_uri": "https://localhost:8080/",
          "height": 1000
        },
        "id": "nyqA-LTr9WC8",
        "outputId": "6e34f386-807f-4f51-d623-72f678241db9"
      },
      "outputs": [
        {
          "name": "stdout",
          "output_type": "stream",
          "text": [
            "shape of train data is (35000,)\n",
            "shape of test data is (10000,)\n",
            "shape of valid data is (5000,)\n"
          ]
        },
        {
          "name": "stderr",
          "output_type": "stream",
          "text": [
            "100%|██████████| 35000/35000 [00:03<00:00, 9146.70it/s]\n"
          ]
        },
        {
          "name": "stdout",
          "output_type": "stream",
          "text": [
            "Length of vocabulary is 36595\n",
            "The model has 11,738,882 trainable parameters\n",
            "training...: 100%|██████████| 2188/2188 [04:04<00:00,  8.95it/s]\n",
            "evaluating...: 100%|██████████| 313/313 [00:13<00:00, 23.45it/s]\n",
            "epoch: 1\n",
            "train_loss: 0.572, train_acc: 0.688\n",
            "valid_loss: 0.493, valid_acc: 0.765\n",
            "training...: 100%|██████████| 2188/2188 [04:04<00:00,  8.94it/s]\n",
            "evaluating...: 100%|██████████| 313/313 [00:13<00:00, 23.50it/s]\n",
            "epoch: 2\n",
            "train_loss: 0.441, train_acc: 0.797\n",
            "valid_loss: 0.433, valid_acc: 0.811\n",
            "training...: 100%|██████████| 2188/2188 [04:03<00:00,  8.98it/s]\n",
            "evaluating...: 100%|██████████| 313/313 [00:13<00:00, 23.55it/s]\n",
            "epoch: 3\n",
            "train_loss: 0.375, train_acc: 0.836\n",
            "valid_loss: 0.441, valid_acc: 0.810\n",
            "training...: 100%|██████████| 2188/2188 [04:04<00:00,  8.93it/s]\n",
            "evaluating...: 100%|██████████| 313/313 [00:13<00:00, 23.56it/s]\n",
            "epoch: 4\n",
            "train_loss: 0.341, train_acc: 0.853\n",
            "valid_loss: 0.400, valid_acc: 0.834\n",
            "training...: 100%|██████████| 2188/2188 [04:03<00:00,  8.97it/s]\n",
            "evaluating...: 100%|██████████| 313/313 [00:13<00:00, 23.48it/s]\n",
            "epoch: 5\n",
            "train_loss: 0.295, train_acc: 0.879\n",
            "valid_loss: 0.352, valid_acc: 0.853\n",
            "evaluating...: 100%|██████████| 625/625 [00:26<00:00, 23.22it/s]\n",
            "test_loss: 0.338, test_acc: 0.856\n",
            "(0, 0.9858296513557434)\n",
            "(0, 0.9858296513557434)\n",
            "(0, 0.988572359085083)\n",
            "(0, 0.988572359085083)\n"
          ]
        },
        {
          "data": {
            "image/png": "[encoded data removed]",
            "text/plain": [
              "<Figure size 720x432 with 1 Axes>"
            ]
          },
          "metadata": {
            "needs_background": "light"
          },
          "output_type": "display_data"
        },
        {
          "data": {
            "image/png": "[encoded data removed]",
            "text/plain": [
              "<Figure size 720x432 with 1 Axes>"
            ]
          },
          "metadata": {
            "needs_background": "light"
          },
          "output_type": "display_data"
        }
      ],
      "source": [
        "x_train, x_valid, x_test, y_train, y_valid, y_test = load_imdb()\n",
        "\n",
        "if USE_PRETRAINED_TOKENIZER:\n",
        "    #Your code here for Q(c)\n",
        "    pass\n",
        "else:\n",
        "    tokenizer = build_vocab(x_train)\n",
        "    vocab_size = len(tokenizer)\n",
        "    pad_index = PAD_INDEX\n",
        "\n",
        "print(f'Length of vocabulary is {vocab_size}')\n",
        "\n",
        "train_data = IMDB(x_train, y_train, tokenizer, MAX_LENGTH)\n",
        "valid_data = IMDB(x_valid, y_valid, tokenizer, MAX_LENGTH)\n",
        "test_data = IMDB(x_test, y_test, tokenizer, MAX_LENGTH)\n",
        "\n",
        "collate = functools.partial(collate, pad_index=pad_index)\n",
        "train_dataloader = torch.utils.data.DataLoader(train_data,\n",
        "                                               batch_size=BATCH_SIZE,\n",
        "                                               collate_fn=collate,\n",
        "                                               shuffle=True)\n",
        "valid_dataloader = torch.utils.data.DataLoader(valid_data, batch_size=BATCH_SIZE, collate_fn=collate)\n",
        "test_dataloader = torch.utils.data.DataLoader(test_data, batch_size=BATCH_SIZE, collate_fn=collate)\n",
        "\n",
        "# Model\n",
        "transformer = TransformerEncoder(len(tokenizer), hidden=256, n_layers=3, attn_heads=4, dropout=0.1)\n",
        "model = Transformer(transformer, OUTPUT_DIM, False)    # finetune the whole BERT\n",
        "print(f'The model has {count_parameters(model):,} trainable parameters')\n",
        "\n",
        "# Optimization\n",
        "optimizer = optim.Adam(model.parameters(), lr=LR)\n",
        "criterion = nn.CrossEntropyLoss()\n",
        "device = torch.device('cuda' if torch.cuda.is_available() else 'cpu')\n",
        "model = model.to(device)\n",
        "criterion = criterion.to(device)\n",
        "\n",
        "# Start training\n",
        "best_valid_loss = float('inf')\n",
        "train_losses = []\n",
        "train_accs = []\n",
        "valid_losses = []\n",
        "valid_accs = []\n",
        "\n",
        "for epoch in range(N_EPOCHS):\n",
        "\n",
        "    train_loss, train_acc = train(train_dataloader, model, criterion, optimizer, device)\n",
        "    valid_loss, valid_acc = evaluate(valid_dataloader, model, criterion, device)\n",
        "\n",
        "    train_losses.extend(train_loss)\n",
        "    train_accs.extend(train_acc)\n",
        "    valid_losses.extend(valid_loss)\n",
        "    valid_accs.extend(valid_acc)\n",
        "\n",
        "    epoch_train_loss = np.mean(train_loss)\n",
        "    epoch_train_acc = np.mean(train_acc)\n",
        "    epoch_valid_loss = np.mean(valid_loss)\n",
        "    epoch_valid_acc = np.mean(valid_acc)\n",
        "\n",
        "    if epoch_valid_loss < best_valid_loss:\n",
        "        best_valid_loss = epoch_valid_loss\n",
        "        torch.save(model.state_dict(), 'transformer.pt')\n",
        "\n",
        "    print(f'epoch: {epoch+1}')\n",
        "    print(f'train_loss: {epoch_train_loss:.3f}, train_acc: {epoch_train_acc:.3f}')\n",
        "    print(f'valid_loss: {epoch_valid_loss:.3f}, valid_acc: {epoch_valid_acc:.3f}')\n",
        "\n",
        "fig = plt.figure(figsize=(10,6))\n",
        "ax = fig.add_subplot(1,1,1)\n",
        "ax.plot(train_losses, label='train loss')\n",
        "ax.plot(valid_losses, label='valid loss')\n",
        "plt.legend()\n",
        "ax.set_xlabel('updates')\n",
        "ax.set_ylabel('loss')\n",
        "\n",
        "fig = plt.figure(figsize=(10,6))\n",
        "ax = fig.add_subplot(1,1,1)\n",
        "ax.plot(train_accs, label='train accuracy')\n",
        "ax.plot(valid_accs, label='valid accuracy')\n",
        "plt.legend()\n",
        "ax.set_xlabel('updates')\n",
        "ax.set_ylabel('accuracy')\n",
        "\n",
        "model.load_state_dict(torch.load('transformer.pt'))\n",
        "\n",
        "test_loss, test_acc = evaluate(test_dataloader, model, criterion, device)\n",
        "\n",
        "epoch_test_loss = np.mean(test_loss)\n",
        "epoch_test_acc = np.mean(test_acc)\n",
        "print(f'test_loss: {epoch_test_loss:.3f}, test_acc: {epoch_test_acc:.3f}')\n",
        "\n",
        "\n",
        "def predict_sentiment(text, model, tokenizer, device):\n",
        "    if USE_PRETRAINED_TOKENIZER:\n",
        "        tokens = tokenize(tokenizer, text)\n",
        "        ids = [tokenizer[t] if t in tokenizer else UNK_INDEX for t in tokens]\n",
        "    else:\n",
        "        tokens = tokenize(tokenizer, text)\n",
        "        ids = [tokenizer[t] if t in tokenizer else UNK_INDEX for t in tokens]\n",
        "\n",
        "    tensor = torch.LongTensor(ids).unsqueeze(dim=0).to(device)\n",
        "    prediction = model(tensor).squeeze(dim=0)\n",
        "    probability = torch.softmax(prediction, dim=-1)\n",
        "    predicted_class = prediction.argmax(dim=-1).item()\n",
        "    predicted_probability = probability[predicted_class].item()\n",
        "    return predicted_class, predicted_probability\n",
        "\n",
        "\n",
        "text = \"This film is terrible!\"\n",
        "print(predict_sentiment(text, model, tokenizer, device))\n",
        "\n",
        "text = \"This film is great!\"\n",
        "print(predict_sentiment(text, model, tokenizer, device))\n",
        "\n",
        "text = \"This film is not terrible, it's great!\"\n",
        "print(predict_sentiment(text, model, tokenizer, device))\n",
        "\n",
        "text = \"This film is not great, it's terrible!\"\n",
        "print(predict_sentiment(text, model, tokenizer, device))\n"
      ]
    },
    {
      "cell_type": "markdown",
      "metadata": {
        "id": "T24gMMT19WC9"
      },
      "source": [
        "## Q(c) Pre-trained tokenizer Usage\n",
        "Up until now, you have been using your own implemented vocabulary and the provide\n",
        "tokenization function. What if you want to use a tokenizer of a pre-trained model such as BERT?\n",
        "Please replace your the vocabulary and tokenizer with\n",
        "transformers:AutoT okenizer:frompretrained(transformer_name) where\n",
        "transformer_name ='bert-base-uncased'. Note that this will/should not load the pre-trained\n",
        "BERT model but just the tokenizer (which implements the WordPiece algorithm).<br>\n",
        "**Hint:** First you need to set USE_PRETRAINED_TOKENIZER = True, then define your pretrained tokenizer in the training script, make sure your IMDB class get-item function and also predict_sentiment could support pre-trained tokenizer. Please do not remove other code, write your code like if USE_PRETRAINED_TOKENIZER:..., else:..."
      ]
    },
    {
      "cell_type": "code",
      "execution_count": null,
      "metadata": {
        "colab": {
          "base_uri": "https://localhost:8080/"
        },
        "id": "uJZwTbl-MLzn",
        "outputId": "5399d0b6-71ee-465e-fb5c-7a38088b846c"
      },
      "outputs": [
        {
          "name": "stdout",
          "output_type": "stream",
          "text": [
            "Collecting transformers\n",
            "  Downloading transformers-4.11.3-py3-none-any.whl (2.9 MB)\n",
            "\u001b[K     |████████████████████████████████| 2.9 MB 4.2 MB/s \n",
            "\u001b[?25hRequirement already satisfied: filelock in /usr/local/lib/python3.7/dist-packages (from transformers) (3.3.0)\n",
            "Collecting huggingface-hub>=0.0.17\n",
            "  Downloading huggingface_hub-0.0.19-py3-none-any.whl (56 kB)\n",
            "\u001b[K     |████████████████████████████████| 56 kB 5.4 MB/s \n",
            "\u001b[?25hRequirement already satisfied: numpy>=1.17 in /usr/local/lib/python3.7/dist-packages (from transformers) (1.19.5)\n",
            "Collecting tokenizers<0.11,>=0.10.1\n",
            "  Downloading tokenizers-0.10.3-cp37-cp37m-manylinux_2_5_x86_64.manylinux1_x86_64.manylinux_2_12_x86_64.manylinux2010_x86_64.whl (3.3 MB)\n",
            "\u001b[K     |████████████████████████████████| 3.3 MB 31.4 MB/s \n",
            "\u001b[?25hRequirement already satisfied: tqdm>=4.27 in /usr/local/lib/python3.7/dist-packages (from transformers) (4.62.3)\n",
            "Requirement already satisfied: regex!=2019.12.17 in /usr/local/lib/python3.7/dist-packages (from transformers) (2019.12.20)\n",
            "Collecting pyyaml>=5.1\n",
            "  Downloading PyYAML-5.4.1-cp37-cp37m-manylinux1_x86_64.whl (636 kB)\n",
            "\u001b[K     |████████████████████████████████| 636 kB 43.4 MB/s \n",
            "\u001b[?25hRequirement already satisfied: requests in /usr/local/lib/python3.7/dist-packages (from transformers) (2.23.0)\n",
            "Collecting sacremoses\n",
            "  Downloading sacremoses-0.0.46-py3-none-any.whl (895 kB)\n",
            "\u001b[K     |████████████████████████████████| 895 kB 40.9 MB/s \n",
            "\u001b[?25hRequirement already satisfied: packaging>=20.0 in /usr/local/lib/python3.7/dist-packages (from transformers) (21.0)\n",
            "Requirement already satisfied: importlib-metadata in /usr/local/lib/python3.7/dist-packages (from transformers) (4.8.1)\n",
            "Requirement already satisfied: typing-extensions in /usr/local/lib/python3.7/dist-packages (from huggingface-hub>=0.0.17->transformers) (3.7.4.3)\n",
            "Requirement already satisfied: pyparsing>=2.0.2 in /usr/local/lib/python3.7/dist-packages (from packaging>=20.0->transformers) (2.4.7)\n",
            "Requirement already satisfied: zipp>=0.5 in /usr/local/lib/python3.7/dist-packages (from importlib-metadata->transformers) (3.6.0)\n",
            "Requirement already satisfied: certifi>=2017.4.17 in /usr/local/lib/python3.7/dist-packages (from requests->transformers) (2021.5.30)\n",
            "Requirement already satisfied: urllib3!=1.25.0,!=1.25.1,<1.26,>=1.21.1 in /usr/local/lib/python3.7/dist-packages (from requests->transformers) (1.24.3)\n",
            "Requirement already satisfied: chardet<4,>=3.0.2 in /usr/local/lib/python3.7/dist-packages (from requests->transformers) (3.0.4)\n",
            "Requirement already satisfied: idna<3,>=2.5 in /usr/local/lib/python3.7/dist-packages (from requests->transformers) (2.10)\n",
            "Requirement already satisfied: click in /usr/local/lib/python3.7/dist-packages (from sacremoses->transformers) (7.1.2)\n",
            "Requirement already satisfied: six in /usr/local/lib/python3.7/dist-packages (from sacremoses->transformers) (1.15.0)\n",
            "Requirement already satisfied: joblib in /usr/local/lib/python3.7/dist-packages (from sacremoses->transformers) (1.0.1)\n",
            "Installing collected packages: pyyaml, tokenizers, sacremoses, huggingface-hub, transformers\n",
            "  Attempting uninstall: pyyaml\n",
            "    Found existing installation: PyYAML 3.13\n",
            "    Uninstalling PyYAML-3.13:\n",
            "      Successfully uninstalled PyYAML-3.13\n",
            "Successfully installed huggingface-hub-0.0.19 pyyaml-5.4.1 sacremoses-0.0.46 tokenizers-0.10.3 transformers-4.11.3\n"
          ]
        }
      ],
      "source": [
        "!pip install transformers"
      ]
    },
    {
      "cell_type": "code",
      "execution_count": null,
      "metadata": {
        "id": "lU2Hxxn99WC9"
      },
      "outputs": [],
      "source": [
        "USE_PRETRAINED_TOKENIZER = True\n",
        "from transformers import BertTokenizer\n",
        "from transformers import BertModel\n",
        "model_name = 'bert-base-uncased'\n",
        "MODEL_PATH = './Transformer-Bert/bert-base-english/'"
      ]
    },
    {
      "cell_type": "code",
      "execution_count": null,
      "metadata": {
        "colab": {
          "base_uri": "https://localhost:8080/",
          "height": 1000
        },
        "id": "J8zoy4KOMLzo",
        "outputId": "f2739f79-538b-4f53-ea8a-414004bab103"
      },
      "outputs": [
        {
          "name": "stdout",
          "output_type": "stream",
          "text": [
            "shape of train data is (35000,)\n",
            "shape of test data is (10000,)\n",
            "shape of valid data is (5000,)\n",
            "Length of vocabulary is 30522\n",
            "The model has 10,184,194 trainable parameters\n",
            "training...:   0%|          | 0/2188 [00:00<?, ?it/s]"
          ]
        },
        {
          "name": "stderr",
          "output_type": "stream",
          "text": [
            "Token indices sequence length is longer than the specified maximum sequence length for this model (872 > 512). Running this sequence through the model will result in indexing errors\n"
          ]
        },
        {
          "name": "stdout",
          "output_type": "stream",
          "text": [
            "training...: 100%|██████████| 2188/2188 [07:56<00:00,  4.59it/s]\n",
            "evaluating...: 100%|██████████| 313/313 [00:46<00:00,  6.67it/s]\n",
            "epoch: 1\n",
            "train_loss: 0.655, train_acc: 0.607\n",
            "valid_loss: 0.622, valid_acc: 0.659\n",
            "training...: 100%|██████████| 2188/2188 [07:44<00:00,  4.71it/s]\n",
            "evaluating...: 100%|██████████| 313/313 [00:46<00:00,  6.73it/s]\n",
            "epoch: 2\n",
            "train_loss: 0.589, train_acc: 0.693\n",
            "valid_loss: 0.565, valid_acc: 0.714\n",
            "training...: 100%|██████████| 2188/2188 [07:45<00:00,  4.70it/s]\n",
            "evaluating...: 100%|██████████| 313/313 [00:45<00:00,  6.81it/s]\n",
            "epoch: 3\n",
            "train_loss: 0.529, train_acc: 0.740\n",
            "valid_loss: 0.489, valid_acc: 0.774\n",
            "training...: 100%|██████████| 2188/2188 [07:43<00:00,  4.72it/s]\n",
            "evaluating...: 100%|██████████| 313/313 [00:46<00:00,  6.71it/s]\n",
            "epoch: 4\n",
            "train_loss: 0.475, train_acc: 0.775\n",
            "valid_loss: 0.458, valid_acc: 0.788\n",
            "training...: 100%|██████████| 2188/2188 [07:45<00:00,  4.70it/s]\n",
            "evaluating...: 100%|██████████| 313/313 [00:46<00:00,  6.75it/s]\n",
            "epoch: 5\n",
            "train_loss: 0.455, train_acc: 0.791\n",
            "valid_loss: 0.467, valid_acc: 0.788\n",
            "evaluating...: 100%|██████████| 625/625 [01:32<00:00,  6.72it/s]\n",
            "test_loss: 0.464, test_acc: 0.782\n"
          ]
        },
        {
          "data": {
            "image/png": "[encoded data removed]",
            "text/plain": [
              "<Figure size 720x432 with 1 Axes>"
            ]
          },
          "metadata": {
            "needs_background": "light"
          },
          "output_type": "display_data"
        },
        {
          "data": {
            "image/png": "[encoded data removed]",
            "text/plain": [
              "<Figure size 720x432 with 1 Axes>"
            ]
          },
          "metadata": {
            "needs_background": "light"
          },
          "output_type": "display_data"
        }
      ],
      "source": [
        "x_train, x_valid, x_test, y_train, y_valid, y_test = load_imdb()\n",
        "\n",
        "if USE_PRETRAINED_TOKENIZER:\n",
        "    tokenizer = BertTokenizer.from_pretrained(model_name)\n",
        "    vocab_size = len(tokenizer)\n",
        "    pad_index = PAD_INDEX\n",
        "\n",
        "else:\n",
        "    tokenizer = build_vocab(x_train)\n",
        "    vocab_size = len(tokenizer)\n",
        "    pad_index = PAD_INDEX\n",
        "\n",
        "print(f'Length of vocabulary is {vocab_size}')\n",
        "\n",
        "train_data = IMDB(x_train, y_train, tokenizer, MAX_LENGTH)\n",
        "valid_data = IMDB(x_valid, y_valid, tokenizer, MAX_LENGTH)\n",
        "test_data = IMDB(x_test, y_test, tokenizer, MAX_LENGTH)\n",
        "\n",
        "collate = functools.partial(collate, pad_index=pad_index)\n",
        "train_dataloader = torch.utils.data.DataLoader(train_data,\n",
        "                                               batch_size=BATCH_SIZE,\n",
        "                                               collate_fn=collate,\n",
        "                                               shuffle=True)\n",
        "valid_dataloader = torch.utils.data.DataLoader(valid_data, batch_size=BATCH_SIZE, collate_fn=collate)\n",
        "test_dataloader = torch.utils.data.DataLoader(test_data, batch_size=BATCH_SIZE, collate_fn=collate)\n",
        "\n",
        "# Model\n",
        "transformer = TransformerEncoder(len(tokenizer), hidden=256, n_layers=3, attn_heads=4, dropout=0.1)\n",
        "model = Transformer(transformer, OUTPUT_DIM, False)    # finetune the whole BERT\n",
        "print(f'The model has {count_parameters(model):,} trainable parameters')\n",
        "\n",
        "# Optimization\n",
        "optimizer = optim.Adam(model.parameters(), lr=LR)\n",
        "criterion = nn.CrossEntropyLoss()\n",
        "device = torch.device('cuda' if torch.cuda.is_available() else 'cpu')\n",
        "model = model.to(device)\n",
        "criterion = criterion.to(device)\n",
        "\n",
        "# Start training\n",
        "best_valid_loss = float('inf')\n",
        "train_losses = []\n",
        "train_accs = []\n",
        "valid_losses = []\n",
        "valid_accs = []\n",
        "\n",
        "for epoch in range(N_EPOCHS):\n",
        "\n",
        "    train_loss, train_acc = train(train_dataloader, model, criterion, optimizer, device)\n",
        "    valid_loss, valid_acc = evaluate(valid_dataloader, model, criterion, device)\n",
        "\n",
        "    train_losses.extend(train_loss)\n",
        "    train_accs.extend(train_acc)\n",
        "    valid_losses.extend(valid_loss)\n",
        "    valid_accs.extend(valid_acc)\n",
        "\n",
        "    epoch_train_loss = np.mean(train_loss)\n",
        "    epoch_train_acc = np.mean(train_acc)\n",
        "    epoch_valid_loss = np.mean(valid_loss)\n",
        "    epoch_valid_acc = np.mean(valid_acc)\n",
        "\n",
        "    if epoch_valid_loss < best_valid_loss:\n",
        "        best_valid_loss = epoch_valid_loss\n",
        "        torch.save(model.state_dict(), 'transformer.pt')\n",
        "\n",
        "    print(f'epoch: {epoch+1}')\n",
        "    print(f'train_loss: {epoch_train_loss:.3f}, train_acc: {epoch_train_acc:.3f}')\n",
        "    print(f'valid_loss: {epoch_valid_loss:.3f}, valid_acc: {epoch_valid_acc:.3f}')\n",
        "\n",
        "fig = plt.figure(figsize=(10,6))\n",
        "ax = fig.add_subplot(1,1,1)\n",
        "ax.plot(train_losses, label='train loss')\n",
        "ax.plot(valid_losses, label='valid loss')\n",
        "plt.legend()\n",
        "ax.set_xlabel('updates')\n",
        "ax.set_ylabel('loss')\n",
        "\n",
        "fig = plt.figure(figsize=(10,6))\n",
        "ax = fig.add_subplot(1,1,1)\n",
        "ax.plot(train_accs, label='train accuracy')\n",
        "ax.plot(valid_accs, label='valid accuracy')\n",
        "plt.legend()\n",
        "ax.set_xlabel('updates')\n",
        "ax.set_ylabel('accuracy')\n",
        "\n",
        "model.load_state_dict(torch.load('transformer.pt'))\n",
        "\n",
        "test_loss, test_acc = evaluate(test_dataloader, model, criterion, device)\n",
        "\n",
        "epoch_test_loss = np.mean(test_loss)\n",
        "epoch_test_acc = np.mean(test_acc)\n",
        "print(f'test_loss: {epoch_test_loss:.3f}, test_acc: {epoch_test_acc:.3f}')\n",
        "\n",
        "\n",
        "\n"
      ]
    },
    {
      "cell_type": "code",
      "execution_count": null,
      "metadata": {
        "colab": {
          "base_uri": "https://localhost:8080/"
        },
        "id": "gdha-F1Ngy8A",
        "outputId": "0b7c205d-3537-4388-ed0f-f654968ee9a8"
      },
      "outputs": [
        {
          "name": "stdout",
          "output_type": "stream",
          "text": [
            "(0, 0.9596968293190002)\n",
            "(1, 0.9751595258712769)\n",
            "(0, 0.9705408811569214)\n",
            "(1, 0.683830738067627)\n"
          ]
        }
      ],
      "source": [
        "def predict_sentiment(text, model, tokenizer, device):\n",
        "    if USE_PRETRAINED_TOKENIZER:\n",
        "        token_ids =tokenizer.encode(text)\n",
        "        ids =  token_ids\n",
        "    else:\n",
        "        tokens = tokenize(tokenizer, text)\n",
        "        ids = [tokenizer[t] if t in tokenizer else UNK_INDEX for t in tokens]\n",
        "\n",
        "    tensor = torch.LongTensor(ids).unsqueeze(dim=0).to(device)\n",
        "    prediction = model(tensor).squeeze(dim=0)\n",
        "    probability = torch.softmax(prediction, dim=-1)\n",
        "    predicted_class = prediction.argmax(dim=-1).item()\n",
        "    predicted_probability = probability[predicted_class].item()\n",
        "    return predicted_class, predicted_probability\n",
        "\n",
        "\n",
        "text = \"This film is terrible!\"\n",
        "print(predict_sentiment(text, model, tokenizer, device))\n",
        "\n",
        "text = \"This film is great!\"\n",
        "print(predict_sentiment(text, model, tokenizer, device))\n",
        "\n",
        "text = \"This film is not terrible, it's great!\"\n",
        "print(predict_sentiment(text, model, tokenizer, device))\n",
        "\n",
        "text = \"This film is not great, it's terrible!\"\n",
        "print(predict_sentiment(text, model, tokenizer, device))"
      ]
    },
    {
      "cell_type": "markdown",
      "metadata": {
        "id": "NF2cCzZQ9WC9"
      },
      "source": [
        "## Q(d) Train your model\n",
        "Train themodel for 5 epochs. Copy the plotted figures of training/validation loss/accuracy\n",
        "to your self-contained pdf report. What is your testing accuracy? What is your model size? What\n",
        "do you observe when comparing this with the original model’s performance? (The provided code\n",
        "contains the plot function and computation of test accuracy. You just need to report the value of\n",
        "testing accuracy.)"
      ]
    },
    {
      "cell_type": "markdown",
      "metadata": {
        "id": "kcwEw6xa9WC9"
      },
      "source": [
        "## Q(e) Trainalbe positional embedding\n",
        "Replace the current PositionalEmbedding with a trainable one. Currently, the PositionalEmbedding\n",
        "uses the sin and cos function to initialize the positional embedding. These functions are deterministic.\n",
        "Could you change the class to use trainable neural network to initialize the position\n",
        "embeddings. For example, you can use the same embedding layer as the token embedding layer.Write your code in the transformer.py"
      ]
    },
    {
      "cell_type": "code",
      "execution_count": null,
      "metadata": {
        "id": "apBRkJZivp87"
      },
      "outputs": [],
      "source": [
        "from transformer import TransformerEncoder"
      ]
    },
    {
      "cell_type": "code",
      "execution_count": null,
      "metadata": {
        "colab": {
          "base_uri": "https://localhost:8080/",
          "height": 1000
        },
        "id": "jwtAQo__YlLj",
        "outputId": "3c5320f7-941f-4482-f5b4-e20f25b4fa8a"
      },
      "outputs": [
        {
          "name": "stdout",
          "output_type": "stream",
          "text": [
            "shape of train data is (35000,)\n",
            "shape of test data is (10000,)\n",
            "shape of valid data is (5000,)\n",
            "Length of vocabulary is 30522\n",
            "The model has 10,184,194 trainable parameters\n",
            "training...:   0%|          | 0/2188 [00:00<?, ?it/s]"
          ]
        },
        {
          "name": "stderr",
          "output_type": "stream",
          "text": [
            "Token indices sequence length is longer than the specified maximum sequence length for this model (649 > 512). Running this sequence through the model will result in indexing errors\n"
          ]
        },
        {
          "name": "stdout",
          "output_type": "stream",
          "text": [
            "training...: 100%|██████████| 2188/2188 [07:48<00:00,  4.67it/s]\n",
            "evaluating...: 100%|██████████| 313/313 [00:47<00:00,  6.66it/s]\n",
            "epoch: 1\n",
            "train_loss: 0.597, train_acc: 0.663\n",
            "valid_loss: 0.508, valid_acc: 0.748\n",
            "training...: 100%|██████████| 2188/2188 [07:50<00:00,  4.65it/s]\n",
            "evaluating...: 100%|██████████| 313/313 [00:47<00:00,  6.61it/s]\n",
            "epoch: 2\n",
            "train_loss: 0.491, train_acc: 0.764\n",
            "valid_loss: 0.457, valid_acc: 0.790\n",
            "training...: 100%|██████████| 2188/2188 [07:49<00:00,  4.66it/s]\n",
            "evaluating...: 100%|██████████| 313/313 [00:47<00:00,  6.62it/s]\n",
            "epoch: 3\n",
            "train_loss: 0.434, train_acc: 0.802\n",
            "valid_loss: 0.451, valid_acc: 0.813\n",
            "training...: 100%|██████████| 2188/2188 [07:49<00:00,  4.66it/s]\n",
            "evaluating...: 100%|██████████| 313/313 [00:46<00:00,  6.67it/s]\n",
            "epoch: 4\n",
            "train_loss: 0.393, train_acc: 0.825\n",
            "valid_loss: 0.411, valid_acc: 0.830\n",
            "training...: 100%|██████████| 2188/2188 [07:49<00:00,  4.66it/s]\n",
            "evaluating...: 100%|██████████| 313/313 [00:47<00:00,  6.64it/s]\n",
            "epoch: 5\n",
            "train_loss: 0.367, train_acc: 0.842\n",
            "valid_loss: 0.397, valid_acc: 0.834\n",
            "evaluating...: 100%|██████████| 625/625 [01:34<00:00,  6.65it/s]\n",
            "test_loss: 0.394, test_acc: 0.834\n"
          ]
        },
        {
          "data": {
            "image/png": "[encoded data removed]",
            "text/plain": [
              "<Figure size 720x432 with 1 Axes>"
            ]
          },
          "metadata": {
            "needs_background": "light"
          },
          "output_type": "display_data"
        },
        {
          "data": {
            "image/png": "[encoded data removed]",
            "text/plain": [
              "<Figure size 720x432 with 1 Axes>"
            ]
          },
          "metadata": {
            "needs_background": "light"
          },
          "output_type": "display_data"
        }
      ],
      "source": [
        "\n",
        "x_train, x_valid, x_test, y_train, y_valid, y_test = load_imdb()\n",
        "\n",
        "if USE_PRETRAINED_TOKENIZER:\n",
        "    tokenizer = BertTokenizer.from_pretrained(model_name)\n",
        "    vocab_size = len(tokenizer)\n",
        "    pad_index = PAD_INDEX\n",
        "\n",
        "else:\n",
        "    tokenizer = build_vocab(x_train)\n",
        "    vocab_size = len(tokenizer)\n",
        "    pad_index = PAD_INDEX\n",
        "\n",
        "print(f'Length of vocabulary is {vocab_size}')\n",
        "\n",
        "train_data = IMDB(x_train, y_train, tokenizer, MAX_LENGTH)\n",
        "valid_data = IMDB(x_valid, y_valid, tokenizer, MAX_LENGTH)\n",
        "test_data = IMDB(x_test, y_test, tokenizer, MAX_LENGTH)\n",
        "\n",
        "collate = functools.partial(collate, pad_index=pad_index)\n",
        "train_dataloader = torch.utils.data.DataLoader(train_data,\n",
        "                                               batch_size=BATCH_SIZE,\n",
        "                                               collate_fn=collate,\n",
        "                                               shuffle=True)\n",
        "valid_dataloader = torch.utils.data.DataLoader(valid_data, batch_size=BATCH_SIZE, collate_fn=collate)\n",
        "test_dataloader = torch.utils.data.DataLoader(test_data, batch_size=BATCH_SIZE, collate_fn=collate)\n",
        "\n",
        "# Model\n",
        "\n",
        "transformer = TransformerEncoder(vocab_size, hidden=256, n_layers=3, attn_heads=4, dropout=0.1)\n",
        "model = Transformer(transformer, OUTPUT_DIM, False)    # finetune the whole BERT\n",
        "print(f'The model has {count_parameters(model):,} trainable parameters')\n",
        "\n",
        "# Optimization\n",
        "optimizer = optim.Adam(model.parameters(), lr=LR)\n",
        "criterion = nn.CrossEntropyLoss()\n",
        "device = torch.device('cuda' if torch.cuda.is_available() else 'cpu')\n",
        "model = model.to(device)\n",
        "criterion = criterion.to(device)\n",
        "\n",
        "# Start training\n",
        "best_valid_loss = float('inf')\n",
        "train_losses = []\n",
        "train_accs = []\n",
        "valid_losses = []\n",
        "valid_accs = []\n",
        "\n",
        "for epoch in range(N_EPOCHS):\n",
        "\n",
        "    train_loss, train_acc = train(train_dataloader, model, criterion, optimizer, device)\n",
        "    valid_loss, valid_acc = evaluate(valid_dataloader, model, criterion, device)\n",
        "\n",
        "    train_losses.extend(train_loss)\n",
        "    train_accs.extend(train_acc)\n",
        "    valid_losses.extend(valid_loss)\n",
        "    valid_accs.extend(valid_acc)\n",
        "\n",
        "    epoch_train_loss = np.mean(train_loss)\n",
        "    epoch_train_acc = np.mean(train_acc)\n",
        "    epoch_valid_loss = np.mean(valid_loss)\n",
        "    epoch_valid_acc = np.mean(valid_acc)\n",
        "\n",
        "    if epoch_valid_loss < best_valid_loss:\n",
        "        best_valid_loss = epoch_valid_loss\n",
        "        torch.save(model.state_dict(), 'transformer.pt')\n",
        "\n",
        "    print(f'epoch: {epoch+1}')\n",
        "    print(f'train_loss: {epoch_train_loss:.3f}, train_acc: {epoch_train_acc:.3f}')\n",
        "    print(f'valid_loss: {epoch_valid_loss:.3f}, valid_acc: {epoch_valid_acc:.3f}')\n",
        "\n",
        "fig = plt.figure(figsize=(10,6))\n",
        "ax = fig.add_subplot(1,1,1)\n",
        "ax.plot(train_losses, label='train loss')\n",
        "ax.plot(valid_losses, label='valid loss')\n",
        "plt.legend()\n",
        "ax.set_xlabel('updates')\n",
        "ax.set_ylabel('loss')\n",
        "\n",
        "fig = plt.figure(figsize=(10,6))\n",
        "ax = fig.add_subplot(1,1,1)\n",
        "ax.plot(train_accs, label='train accuracy')\n",
        "ax.plot(valid_accs, label='valid accuracy')\n",
        "plt.legend()\n",
        "ax.set_xlabel('updates')\n",
        "ax.set_ylabel('accuracy')\n",
        "\n",
        "model.load_state_dict(torch.load('transformer.pt'))\n",
        "\n",
        "test_loss, test_acc = evaluate(test_dataloader, model, criterion, device)\n",
        "\n",
        "epoch_test_loss = np.mean(test_loss)\n",
        "epoch_test_acc = np.mean(test_acc)\n",
        "print(f'test_loss: {epoch_test_loss:.3f}, test_acc: {epoch_test_acc:.3f}')\n",
        "\n",
        "\n",
        "\n"
      ]
    },
    {
      "cell_type": "code",
      "execution_count": null,
      "metadata": {
        "colab": {
          "base_uri": "https://localhost:8080/"
        },
        "id": "2-2ZU2RC2sUY",
        "outputId": "fb0de5cc-1962-4048-9602-23af2c60c185"
      },
      "outputs": [
        {
          "name": "stdout",
          "output_type": "stream",
          "text": [
            "(0, 0.5556888580322266)\n",
            "(1, 0.9934939742088318)\n",
            "(1, 0.9530127644538879)\n",
            "(1, 0.9348123669624329)\n"
          ]
        }
      ],
      "source": [
        "def predict_sentiment(text, model, tokenizer, device):\n",
        "    if USE_PRETRAINED_TOKENIZER:\n",
        "        token_ids =tokenizer.encode(text)\n",
        "        ids =  token_ids\n",
        "    else:\n",
        "        tokens = tokenize(tokenizer, text)\n",
        "        ids = [tokenizer[t] if t in tokenizer else UNK_INDEX for t in tokens]\n",
        "\n",
        "    tensor = torch.LongTensor(ids).unsqueeze(dim=0).to(device)\n",
        "    prediction = model(tensor).squeeze(dim=0)\n",
        "    probability = torch.softmax(prediction, dim=-1)\n",
        "    predicted_class = prediction.argmax(dim=-1).item()\n",
        "    predicted_probability = probability[predicted_class].item()\n",
        "    return predicted_class, predicted_probability\n",
        "\n",
        "\n",
        "text = \"This film is terrible!\"\n",
        "print(predict_sentiment(text, model, tokenizer, device))\n",
        "\n",
        "text = \"This film is great!\"\n",
        "print(predict_sentiment(text, model, tokenizer, device))\n",
        "\n",
        "text = \"This film is not terrible, it's great!\"\n",
        "print(predict_sentiment(text, model, tokenizer, device))\n",
        "\n",
        "text = \"This film is not great, it's terrible!\"\n",
        "print(predict_sentiment(text, model, tokenizer, device))"
      ]
    },
    {
      "cell_type": "code",
      "execution_count": null,
      "metadata": {
        "id": "IB1_drJ2YmMo"
      },
      "outputs": [],
      "source": [
        "USE_PRETRAINED_TOKENIZER = True\n",
        "from transformers import BertTokenizer\n",
        "from transformers import BertModel\n",
        "model_name = 'bert-base-uncased'\n",
        "MODEL_PATH = './Transformer-Bert/bert-base-english/"
      ]
    },
    {
      "cell_type": "code",
      "execution_count": null,
      "metadata": {},
      "outputs": [],
      "source": [
        "from transformer import TransformerEncoder"
      ]
    },
    {
      "cell_type": "markdown",
      "metadata": {
        "id": "b5Ip23Wx9WC-"
      },
      "source": [
        "## Q(f) Train your model\n",
        "Train the model with the updated PositionalEmbedding for 5 epochs. Copy the plotted\n",
        "figures of training/validation loss/accuracy to your self-contained pdf report. What is your\n",
        "testing accuracy? What is your model size? (The provided code contains the plot function and\n",
        "computation of test accuracy. You just need to report the value of testing accuracy.)"
      ]
    },
    {
      "cell_type": "code",
      "execution_count": null,
      "metadata": {},
      "outputs": [],
      "source": [
        "x_train, x_valid, x_test, y_train, y_valid, y_test = load_imdb()\n",
        "\n",
        "if USE_PRETRAINED_TOKENIZER:\n",
        "    #Your code here for Q(c)\n",
        "    pass\n",
        "else:\n",
        "    tokenizer = build_vocab(x_train)\n",
        "    vocab_size = len(tokenizer)\n",
        "    pad_index = PAD_INDEX\n",
        "\n",
        "print(f'Length of vocabulary is {vocab_size}')\n",
        "\n",
        "train_data = IMDB(x_train, y_train, tokenizer, MAX_LENGTH)\n",
        "valid_data = IMDB(x_valid, y_valid, tokenizer, MAX_LENGTH)\n",
        "test_data = IMDB(x_test, y_test, tokenizer, MAX_LENGTH)\n",
        "\n",
        "collate = functools.partial(collate, pad_index=pad_index)\n",
        "train_dataloader = torch.utils.data.DataLoader(train_data,\n",
        "                                               batch_size=BATCH_SIZE,\n",
        "                                               collate_fn=collate,\n",
        "                                               shuffle=True)\n",
        "valid_dataloader = torch.utils.data.DataLoader(valid_data, batch_size=BATCH_SIZE, collate_fn=collate)\n",
        "test_dataloader = torch.utils.data.DataLoader(test_data, batch_size=BATCH_SIZE, collate_fn=collate)\n",
        "\n",
        "# Model\n",
        "transformer = TransformerEncoder_v(len(tokenizer), hidden=256, n_layers=3, attn_heads=4, dropout=0.1)\n",
        "model = Transformer(transformer, OUTPUT_DIM, False)    # finetune the whole BERT\n",
        "print(f'The model has {count_parameters(model):,} trainable parameters')\n",
        "\n",
        "# Optimization\n",
        "optimizer = optim.Adam(model.parameters(), lr=LR)\n",
        "criterion = nn.CrossEntropyLoss()\n",
        "device = torch.device('cuda' if torch.cuda.is_available() else 'cpu')\n",
        "model = model.to(device)\n",
        "criterion = criterion.to(device)\n",
        "\n",
        "# Start training\n",
        "best_valid_loss = float('inf')\n",
        "train_losses = []\n",
        "train_accs = []\n",
        "valid_losses = []\n",
        "valid_accs = []\n",
        "\n",
        "for epoch in range(N_EPOCHS):\n",
        "\n",
        "    train_loss, train_acc = train(train_dataloader, model, criterion, optimizer, device)\n",
        "    valid_loss, valid_acc = evaluate(valid_dataloader, model, criterion, device)\n",
        "\n",
        "    train_losses.extend(train_loss)\n",
        "    train_accs.extend(train_acc)\n",
        "    valid_losses.extend(valid_loss)\n",
        "    valid_accs.extend(valid_acc)\n",
        "\n",
        "    epoch_train_loss = np.mean(train_loss)\n",
        "    epoch_train_acc = np.mean(train_acc)\n",
        "    epoch_valid_loss = np.mean(valid_loss)\n",
        "    epoch_valid_acc = np.mean(valid_acc)\n",
        "\n",
        "    if epoch_valid_loss < best_valid_loss:\n",
        "        best_valid_loss = epoch_valid_loss\n",
        "        torch.save(model.state_dict(), 'transformer.pt')\n",
        "\n",
        "    print(f'epoch: {epoch+1}')\n",
        "    print(f'train_loss: {epoch_train_loss:.3f}, train_acc: {epoch_train_acc:.3f}')\n",
        "    print(f'valid_loss: {epoch_valid_loss:.3f}, valid_acc: {epoch_valid_acc:.3f}')\n",
        "\n",
        "fig = plt.figure(figsize=(10,6))\n",
        "ax = fig.add_subplot(1,1,1)\n",
        "ax.plot(train_losses, label='train loss')\n",
        "ax.plot(valid_losses, label='valid loss')\n",
        "plt.legend()\n",
        "ax.set_xlabel('updates')\n",
        "ax.set_ylabel('loss')\n",
        "\n",
        "fig = plt.figure(figsize=(10,6))\n",
        "ax = fig.add_subplot(1,1,1)\n",
        "ax.plot(train_accs, label='train accuracy')\n",
        "ax.plot(valid_accs, label='valid accuracy')\n",
        "plt.legend()\n",
        "ax.set_xlabel('updates')\n",
        "ax.set_ylabel('accuracy')\n",
        "\n",
        "model.load_state_dict(torch.load('transformer.pt'))\n",
        "\n",
        "test_loss, test_acc = evaluate(test_dataloader, model, criterion, device)\n",
        "\n",
        "epoch_test_loss = np.mean(test_loss)\n",
        "epoch_test_acc = np.mean(test_acc)\n",
        "print(f'test_loss: {epoch_test_loss:.3f}, test_acc: {epoch_test_acc:.3f}')\n",
        "\n",
        "\n",
        "def predict_sentiment(text, model, tokenizer, device):\n",
        "    if USE_PRETRAINED_TOKENIZER:\n",
        "        tokens = tokenize(tokenizer, text)\n",
        "        ids = [tokenizer[t] if t in tokenizer else UNK_INDEX for t in tokens]\n",
        "    else:\n",
        "        tokens = tokenize(tokenizer, text)\n",
        "        ids = [tokenizer[t] if t in tokenizer else UNK_INDEX for t in tokens]\n",
        "\n",
        "    tensor = torch.LongTensor(ids).unsqueeze(dim=0).to(device)\n",
        "    prediction = model(tensor).squeeze(dim=0)\n",
        "    probability = torch.softmax(prediction, dim=-1)\n",
        "    predicted_class = prediction.argmax(dim=-1).item()\n",
        "    predicted_probability = probability[predicted_class].item()\n",
        "    return predicted_class, predicted_probability\n",
        "\n",
        "\n",
        "text = \"This film is terrible!\"\n",
        "print(predict_sentiment(text, model, tokenizer, device))\n",
        "\n",
        "text = \"This film is great!\"\n",
        "print(predict_sentiment(text, model, tokenizer, device))\n",
        "\n",
        "text = \"This film is not terrible, it's great!\"\n",
        "print(predict_sentiment(text, model, tokenizer, device))\n",
        "\n",
        "text = \"This film is not great, it's terrible!\"\n",
        "print(predict_sentiment(text, model, tokenizer, device))\n"
      ]
    },
    {
      "cell_type": "markdown",
      "metadata": {
        "id": "_zba6GpT9WC-"
      },
      "source": [
        "## Q(g) Learning rate schedule\n",
        "Warm start learning rate schedule is a useful technique for training Transformers. The\n",
        "learning rate starts from a very small value at the beginning of the training. Then, in the first few\n",
        "epochs, it is gradually increased to a peak value. After then, the learning rate gradually decreases\n",
        "throughout the remaining training. Please implement the warm start learning rate schedule and\n",
        "run your code with that.<br>\n",
        "**hint**: you need to assign a different learning rate for each epoch,which you should change the script by yourself\n"
      ]
    },
    {
      "cell_type": "code",
      "execution_count": 71,
      "metadata": {
        "id": "RsxA-LPJS3nf"
      },
      "outputs": [],
      "source": [
        "class Warmup:\n",
        "    def __init__(self, optimizer, lr,round , total_epoch):\n",
        "        self.optimizer = optimizer\n",
        "        self.lr = lr\n",
        "        self.round = round \n",
        "        self.total_epoch = total_epoch\n",
        "        self.current_iter = 0\n",
        "        self.gamma = 0.7\n",
        "        self.beta  = 2\n",
        "    \n",
        "    def get_lr(self):\n",
        "        if self.current_iter < self.round:\n",
        "            lr = self.lr * self.beta\n",
        "        else:\n",
        "            cur = self.current_iter - self.round\n",
        "            total= self.total_epoch - self.round\n",
        "            lr = self.lr *(self.gamma**cur)\n",
        "        return lr\n",
        "    \n",
        "    def step(self):\n",
        "        lr = self.get_lr()\n",
        "        for param in self.optimizer.param_groups:\n",
        "            param['lr'] = lr\n",
        "\n",
        "            print(f'epoch : {self.current_iter:d}, train_lr: {lr:.5f}')\n",
        "        self.current_iter += 1"
      ]
    },
    {
      "cell_type": "code",
      "execution_count": null,
      "metadata": {},
      "outputs": [],
      "source": [
        "LR=1e-4\n",
        "N_EPOCHS=10\n",
        "x_train, x_valid, x_test, y_train, y_valid, y_test = load_imdb()\n",
        "\n",
        "if USE_PRETRAINED_TOKENIZER:\n",
        "    tokenizer = BertTokenizer.from_pretrained(model_name)\n",
        "    vocab_size = len(tokenizer)\n",
        "    pad_index = PAD_INDEX\n",
        "\n",
        "else:\n",
        "    tokenizer = build_vocab(x_train)\n",
        "    vocab_size = len(tokenizer)\n",
        "    pad_index = PAD_INDEX\n"
      ]
    },
    {
      "cell_type": "code",
      "execution_count": null,
      "metadata": {},
      "outputs": [],
      "source": [
        "\n",
        "print(f'Length of vocabulary is {vocab_size}')\n",
        "\n",
        "train_data = IMDB(x_train, y_train, tokenizer, MAX_LENGTH)\n",
        "valid_data = IMDB(x_valid, y_valid, tokenizer, MAX_LENGTH)\n",
        "test_data = IMDB(x_test, y_test, tokenizer, MAX_LENGTH)\n",
        "\n",
        "collate = functools.partial(collate, pad_index=pad_index)\n",
        "train_dataloader = torch.utils.data.DataLoader(train_data,\n",
        "                                               batch_size=BATCH_SIZE,\n",
        "                                               collate_fn=collate,\n",
        "                                               shuffle=True)\n",
        "valid_dataloader = torch.utils.data.DataLoader(valid_data, batch_size=BATCH_SIZE, collate_fn=collate)\n",
        "test_dataloader = torch.utils.data.DataLoader(test_data, batch_size=BATCH_SIZE, collate_fn=collate)\n",
        "\n",
        "# Model\n",
        "transformer = TransformerEncoder(len(tokenizer), hidden=256, n_layers=3, attn_heads=4, dropout=0.1)\n",
        "model = Transformer(transformer, OUTPUT_DIM, False)    # finetune the whole BERT\n",
        "print(f'The model has {count_parameters(model):,} trainable parameters')\n",
        "\n",
        "# Optimization\n",
        "optimizer = optim.Adam(model.parameters(), lr=LR)\n",
        "criterion = nn.CrossEntropyLoss()\n",
        "device = torch.device('cuda' if torch.cuda.is_available() else 'cpu')\n",
        "scheduler = Warmup(optimizer, LR, N_EPOCHS/5, N_EPOCHS)\n",
        "model = model.to(device)\n",
        "criterion = criterion.to(device)\n",
        "\n",
        "# Start training\n",
        "best_valid_loss = float('inf')\n",
        "train_losses = []\n",
        "train_accs = []\n",
        "valid_losses = []\n",
        "valid_accs = []\n",
        "\n",
        "for epoch in range(N_EPOCHS):\n",
        "\n",
        "    train_loss, train_acc = train(train_dataloader, model, criterion, optimizer, device)\n",
        "    valid_loss, valid_acc = evaluate(valid_dataloader, model, criterion, device)\n",
        "\n",
        "    train_losses.extend(train_loss)\n",
        "    train_accs.extend(train_acc)\n",
        "    valid_losses.extend(valid_loss)\n",
        "    valid_accs.extend(valid_acc)\n",
        "\n",
        "    epoch_train_loss = np.mean(train_loss)\n",
        "    epoch_train_acc = np.mean(train_acc)\n",
        "    epoch_valid_loss = np.mean(valid_loss)\n",
        "    epoch_valid_acc = np.mean(valid_acc)\n",
        "\n",
        "    if epoch_valid_loss < best_valid_loss:\n",
        "        best_valid_loss = epoch_valid_loss\n",
        "        torch.save(model.state_dict(), 'transformer.pt')\n",
        "\n",
        "    print(f'epoch: {epoch+1}')\n",
        "    print(f'train_loss: {epoch_train_loss:.3f}, train_acc: {epoch_train_acc:.3f}')\n",
        "    print(f'valid_loss: {epoch_valid_loss:.3f}, valid_acc: {epoch_valid_acc:.3f}')\n",
        "    scheduler.step()\n",
        "\n",
        "fig = plt.figure(figsize=(10,6))\n",
        "ax = fig.add_subplot(1,1,1)\n",
        "ax.plot(train_losses, label='train loss')\n",
        "ax.plot(valid_losses, label='valid loss')\n",
        "plt.legend()\n",
        "ax.set_xlabel('updates')\n",
        "ax.set_ylabel('loss')\n",
        "\n",
        "fig = plt.figure(figsize=(10,6))\n",
        "ax = fig.add_subplot(1,1,1)\n",
        "ax.plot(train_accs, label='train accuracy')\n",
        "ax.plot(valid_accs, label='valid accuracy')\n",
        "plt.legend()\n",
        "ax.set_xlabel('updates')\n",
        "ax.set_ylabel('accuracy')\n",
        "\n",
        "model.load_state_dict(torch.load('transformer.pt'))\n",
        "\n",
        "test_loss, test_acc = evaluate(test_dataloader, model, criterion, device)\n",
        "\n",
        "epoch_test_loss = np.mean(test_loss)\n",
        "epoch_test_acc = np.mean(test_acc)\n",
        "print(f'test_loss: {epoch_test_loss:.3f}, test_acc: {epoch_test_acc:.3f}')\n",
        "\n",
        "\n"
      ]
    },
    {
      "cell_type": "code",
      "execution_count": null,
      "metadata": {},
      "outputs": [],
      "source": [
        "def predict_sentiment(text, model, tokenizer, device):\n",
        "    if USE_PRETRAINED_TOKENIZER:\n",
        "        token_ids =tokenizer.encode(text)\n",
        "        ids =  token_ids\n",
        "    else:\n",
        "        tokens = tokenize(tokenizer, text)\n",
        "        ids = [tokenizer[t] if t in tokenizer else UNK_INDEX for t in tokens]\n",
        "\n",
        "    tensor = torch.LongTensor(ids).unsqueeze(dim=0).to(device)\n",
        "    prediction = model(tensor).squeeze(dim=0)\n",
        "    probability = torch.softmax(prediction, dim=-1)\n",
        "    predicted_class = prediction.argmax(dim=-1).item()\n",
        "    predicted_probability = probability[predicted_class].item()\n",
        "    return predicted_class, predicted_probability\n",
        "\n",
        "\n",
        "text = \"This film is terrible!\"\n",
        "print(predict_sentiment(text, model, tokenizer, device))\n",
        "\n",
        "text = \"This film is great!\"\n",
        "print(predict_sentiment(text, model, tokenizer, device))\n",
        "\n",
        "text = \"This film is not terrible, it's great!\"\n",
        "print(predict_sentiment(text, model, tokenizer, device))\n",
        "\n",
        "text = \"This film is not great, it's terrible!\"\n",
        "print(predict_sentiment(text, model, tokenizer, device))"
      ]
    }
  ],
  "metadata": {
    "accelerator": "GPU",
    "colab": {
      "collapsed_sections": [],
      "name": "Lab2.ipynb",
      "provenance": []
    },
    "kernelspec": {
      "display_name": "Python 3",
      "language": "python",
      "name": "python3"
    },
    "language_info": {
      "codemirror_mode": {
        "name": "ipython",
        "version": 3
      },
      "file_extension": ".py",
      "mimetype": "text/x-python",
      "name": "python",
      "nbconvert_exporter": "python",
      "pygments_lexer": "ipython3",
      "version": "3.6.10"
    }
  },
  "nbformat": 4,
  "nbformat_minor": 0
}
